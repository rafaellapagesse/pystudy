{
 "cells": [
  {
   "cell_type": "markdown",
   "metadata": {},
   "source": [
    "## Analyzing Patient Data\n",
    "### Learning Objectives\n",
    "\n",
    "\n",
    "- Explain what a library is, and what libraries are used for.\n",
    "- Load a Python library and use the things it contains.\n",
    "- Read tabular data from a file into a program.\n",
    "- Assign values to variables.\n",
    "- Select individual values and subsections from data.\n",
    "- Perform operations on arrays of data.\n",
    "- Display simple graphs.\n",
    "\n"
   ]
  },
  {
   "cell_type": "markdown",
   "metadata": {},
   "source": [
    "</p> As palavras são úteis, mas o que é mais útil são as sentenças e estórias que construimos com elas. De maneira similar, enquanto  muitas ferramentas poderosas são construídas usando linguagens como Python, mais ainda vive nas bibliotecas que elas constroem.</p>\n",
    "\n",
    "\n",
    "<p>Para carregar nossos dados, nós precisamos importar uma biblioteca chamada NumPy. Em geral você deve usar essa biblioteca se você quiser fazer coisas com números, especialmente se você tiver matrizes ou arrays. Nós podemos carregar o NumPy usando:</p>"
   ]
  },
  {
   "cell_type": "code",
   "execution_count": 3,
   "metadata": {
    "collapsed": true
   },
   "outputs": [],
   "source": [
    "import numpy"
   ]
  },
  {
   "cell_type": "markdown",
   "metadata": {},
   "source": [
    "<p>Importar uma biblioteca é como pegar um equipamento guardado no depósito e montá-lo na bancada. Bibliotecas fornecem funções adicionais ao pacote básico do Python, como um equipamento adiciona funcionalidade ao laboratório. Uma vez carregada a biblioteca, nós podemos pedir pra que ela leia nossos dados:</p>"
   ]
  },
  {
   "cell_type": "code",
   "execution_count": 4,
   "metadata": {
    "collapsed": false
   },
   "outputs": [
    {
     "data": {
      "text/plain": [
       "array([[ 0.,  0.,  1., ...,  3.,  0.,  0.],\n",
       "       [ 0.,  1.,  2., ...,  1.,  0.,  1.],\n",
       "       [ 0.,  1.,  1., ...,  2.,  1.,  1.],\n",
       "       ..., \n",
       "       [ 0.,  1.,  1., ...,  1.,  1.,  1.],\n",
       "       [ 0.,  0.,  0., ...,  0.,  2.,  0.],\n",
       "       [ 0.,  0.,  1., ...,  1.,  1.,  0.]])"
      ]
     },
     "execution_count": 4,
     "metadata": {},
     "output_type": "execute_result"
    }
   ],
   "source": [
    "numpy.loadtxt(fname='inflammation-01.csv', delimiter=',')"
   ]
  },
  {
   "cell_type": "code",
   "execution_count": null,
   "metadata": {
    "collapsed": false
   },
   "outputs": [],
   "source": [
    "help(numpy.loadtxt)"
   ]
  },
  {
   "cell_type": "markdown",
   "metadata": {
    "collapsed": true
   },
   "source": [
    "<p>A expressão <code>numpy.loadtxt(...)</code> é um invocador de função que faz com que o Python execute a função <code>loadtxt(...)</code> que pertence a biblioteca NumPy. Esta notação de ponto é usada em todos os lugares em Python para referir partes das coisas como <code>coisa.componente</code>.</p>\n"
   ]
  },
  {
   "cell_type": "code",
   "execution_count": null,
   "metadata": {
    "collapsed": true
   },
   "outputs": [],
   "source": []
  }
 ],
 "metadata": {
  "kernelspec": {
   "display_name": "Python 3",
   "language": "python",
   "name": "python3"
  },
  "language_info": {
   "codemirror_mode": {
    "name": "ipython",
    "version": 3
   },
   "file_extension": ".py",
   "mimetype": "text/x-python",
   "name": "python",
   "nbconvert_exporter": "python",
   "pygments_lexer": "ipython3",
   "version": "3.5.1"
  }
 },
 "nbformat": 4,
 "nbformat_minor": 0
}
