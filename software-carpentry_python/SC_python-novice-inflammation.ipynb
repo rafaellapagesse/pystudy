{
 "cells": [
  {
   "cell_type": "markdown",
   "metadata": {},
   "source": [
    "## Analyzing Patient Data\n",
    "### Learning Objectives\n",
    "\n",
    "\n",
    "- Explain what a library is, and what libraries are used for.\n",
    "- Load a Python library and use the things it contains.\n",
    "- Read tabular data from a file into a program.\n",
    "- Assign values to variables.\n",
    "- Select individual values and subsections from data.\n",
    "- Perform operations on arrays of data.\n",
    "- Display simple graphs.\n",
    "\n"
   ]
  },
  {
   "cell_type": "markdown",
   "metadata": {},
   "source": [
    "</p> As palavras são úteis, mas o que é mais útil são as sentenças e estórias que construimos com elas. De maneira similar, enquanto  muitas ferramentas poderosas são construídas usando linguagens como Python, mais ainda vive nas bibliotecas que elas constroem.</p>\n",
    "\n",
    "\n",
    "<p>Para carregar nossos dados, nós precisamos importar uma biblioteca chamada NumPy. Em geral você deve usar essa biblioteca se você quiser fazer coisas com números, especialmente se você tiver matrizes ou arrays. Nós podemos carregar o NumPy usando:</p>"
   ]
  },
  {
   "cell_type": "code",
   "execution_count": 3,
   "metadata": {
    "collapsed": true
   },
   "outputs": [],
   "source": [
    "import numpy"
   ]
  },
  {
   "cell_type": "markdown",
   "metadata": {},
   "source": [
    "<p>Importar uma biblioteca é como pegar um equipamento guardado no depósito e montá-lo na bancada. Bibliotecas fornecem funções adicionais ao pacote básico do Python, como um equipamento adiciona funcionalidade ao laboratório. Uma vez carregada a biblioteca, nós podemos pedir pra que ela leia nossos dados:</p>"
   ]
  },
  {
   "cell_type": "code",
   "execution_count": 4,
   "metadata": {
    "collapsed": false
   },
   "outputs": [
    {
     "data": {
      "text/plain": [
       "array([[ 0.,  0.,  1., ...,  3.,  0.,  0.],\n",
       "       [ 0.,  1.,  2., ...,  1.,  0.,  1.],\n",
       "       [ 0.,  1.,  1., ...,  2.,  1.,  1.],\n",
       "       ..., \n",
       "       [ 0.,  1.,  1., ...,  1.,  1.,  1.],\n",
       "       [ 0.,  0.,  0., ...,  0.,  2.,  0.],\n",
       "       [ 0.,  0.,  1., ...,  1.,  1.,  0.]])"
      ]
     },
     "execution_count": 4,
     "metadata": {},
     "output_type": "execute_result"
    }
   ],
   "source": [
    "numpy.loadtxt(fname='inflammation-01.csv', delimiter=',')"
   ]
  },
  {
   "cell_type": "code",
   "execution_count": null,
   "metadata": {
    "collapsed": false
   },
   "outputs": [],
   "source": [
    "help(numpy.loadtxt)"
   ]
  },
  {
   "cell_type": "markdown",
   "metadata": {
    "collapsed": true
   },
   "source": [
    "<p>A expressão <code>numpy.loadtxt(...)</code> é um invocador de função que faz com que o Python execute a função <code>loadtxt(...)</code> que pertence a biblioteca NumPy. Esta notação de ponto é usada em todos os lugares em Python para referir partes das coisas como <code>coisa.componente</code>.</p>\n",
    "<p><code>numpy.loadtxt</code> tem dois parâmetros: o nome do arquivo que queremos ler, e o delimitador que separa valores em uma linha. Ambos precisam ser caracteres strings (ou simplismente strings), logo nós os colocamos entre aspas.</p>\n",
    "<p>Quando terminamos de digitar o código e apertamos Shift+Enter, o notebook executa nosso comando. Já que não dissemos ao notebook que não havia nada a ser feito com output da função, ele nos mostra isso. Neste caso, este output é o dado que acabamos de carregar. Por padrão, somente algumas colunas e algumas linhas são mostradas (com **...** para omitir elementos quando exibir arrays grandes). Para salvar espaço, Python também exibe números como **1.** ao invés de **1.0** quando não há nada interessante depois do ponto decimal.</p>\n",
    "<p>Ao darmos o comando <code>numpy.loadtxt</code>, ele lê o arquivo de dados, mas não salvou o dado na memória. Para fazer isso, nós precisamos atribuir o array pra uma variável. Uma variável é simplismente um nome para um valor, como x, temperatura_de_corrente, ou id_objeto. As variáveis em Python devem começar com uma letra e diferenciam maiúsculas de minúsculas. Podemos criar uma nova variável  ao designar um valor para ela usando **=**. Para exemplificar isto, vamos dar um passo para trás e ao invés de considerar uma planilha de dados, considere a coleção mais simples de dado, um valor único. A linha abaixo atribui o valor 55 para a variável <code>peso_kg</code>:</p>    "
   ]
  },
  {
   "cell_type": "code",
   "execution_count": 1,
   "metadata": {
    "collapsed": true
   },
   "outputs": [],
   "source": [
    "peso_kg = 55"
   ]
  },
  {
   "cell_type": "markdown",
   "metadata": {},
   "source": [
    "Uma vez que ela tem um valor, podemos dar \"print\" e exibí-la na tela:"
   ]
  },
  {
   "cell_type": "code",
   "execution_count": 2,
   "metadata": {
    "collapsed": false
   },
   "outputs": [
    {
     "name": "stdout",
     "output_type": "stream",
     "text": [
      "55\n"
     ]
    }
   ],
   "source": [
    "print(peso_kg)"
   ]
  },
  {
   "cell_type": "markdown",
   "metadata": {},
   "source": [
    "e brincar de contas com ela:"
   ]
  },
  {
   "cell_type": "code",
   "execution_count": 3,
   "metadata": {
    "collapsed": false,
    "scrolled": true
   },
   "outputs": [
    {
     "name": "stdout",
     "output_type": "stream",
     "text": [
      "peso em libras: 121.00000000000001\n"
     ]
    }
   ],
   "source": [
    "print('peso em libras:', 2.2*peso_kg)"
   ]
  },
  {
   "cell_type": "markdown",
   "metadata": {},
   "source": [
    "Nós podemos mudar o valor de uma variável ao atribuir um novo a ela."
   ]
  },
  {
   "cell_type": "code",
   "execution_count": 9,
   "metadata": {
    "collapsed": false
   },
   "outputs": [
    {
     "name": "stdout",
     "output_type": "stream",
     "text": [
      "O peso em kg é agora: 62.5 !\n"
     ]
    }
   ],
   "source": [
    "peso_kg = 62.5\n",
    "print('O peso em kg é agora:',peso_kg,'!')"
   ]
  },
  {
   "cell_type": "markdown",
   "metadata": {},
   "source": [
    "Como o exemplo acima mostra, nós podemos dar print de várias coisas de uma vez só ao separá-las com vírgula. \n"
   ]
  }
 ],
 "metadata": {
  "kernelspec": {
   "display_name": "Python 3",
   "language": "python",
   "name": "python3"
  },
  "language_info": {
   "codemirror_mode": {
    "name": "ipython",
    "version": 3
   },
   "file_extension": ".py",
   "mimetype": "text/x-python",
   "name": "python",
   "nbconvert_exporter": "python",
   "pygments_lexer": "ipython3",
   "version": "3.5.1"
  }
 },
 "nbformat": 4,
 "nbformat_minor": 0
}
