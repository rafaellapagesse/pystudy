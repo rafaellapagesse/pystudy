{
 "cells": [
  {
   "cell_type": "code",
   "execution_count": null,
   "metadata": {
    "collapsed": false
   },
   "outputs": [],
   "source": [
    "%matplotlib inline"
   ]
  },
  {
   "cell_type": "markdown",
   "metadata": {
    "collapsed": true
   },
   "source": [
    "# scikit-image \n",
    "\n",
    "## 0) Referências\n",
    "- http://scikit-image.org/docs/stable/user_guide/getting_started.html\n",
    "- http://scikit-image.org/docs/stable/api/api.html\n",
    "- http://scikit-image.org/docs/stable/user_guide/data_types.html#data-types\n",
    "- \n",
    "\n",
    "\n",
    "## 1) Introdução\n",
    "\n",
    "<p> O **<code>scikit-image</code>** é um pacote do Python para processamento de imagens que funciona com arrays do numpy, importado como skimage. \n"
   ]
  },
  {
   "cell_type": "code",
   "execution_count": null,
   "metadata": {
    "collapsed": true
   },
   "outputs": [],
   "source": [
    "import skimage"
   ]
  },
  {
   "cell_type": "markdown",
   "metadata": {},
   "source": [
    "<p>A maioria de suas funções são encontradas em submódulos. A lista contendo os submódulos e funções  do skimage é encontrada [aqui](http://scikit-image.org/docs/stable/api/api.html). Dentro do scikit-image, imagens são representadas como Numpy arrays, por exemplo arrays 2-D para imagens em escala de cinza 2-D.</p>\n",
    "<p>O submódulo **<code>skimage.data</code>** fornece um grupo de funções retornando exemplos de imagens que podem ser usados para se acostumar rapidamente com o uso das funções do **skimage**."
   ]
  },
  {
   "cell_type": "code",
   "execution_count": null,
   "metadata": {
    "collapsed": true
   },
   "outputs": [],
   "source": [
    "from skimage import data"
   ]
  },
  {
   "cell_type": "markdown",
   "metadata": {},
   "source": [
    "Uma das imagens que estão neste submódulo é  <code>camera</code>. A partir dela, podemos extrair informações como:"
   ]
  },
  {
   "cell_type": "code",
   "execution_count": null,
   "metadata": {
    "collapsed": true
   },
   "outputs": [],
   "source": [
    "camera = data.camera()"
   ]
  },
  {
   "cell_type": "code",
   "execution_count": null,
   "metadata": {
    "collapsed": false
   },
   "outputs": [],
   "source": [
    "type(camera)"
   ]
  },
  {
   "cell_type": "markdown",
   "metadata": {},
   "source": [
    "Como dito acima, as imagens são transformadas em arrays do Numpy. Como todo array, pode-se extrair seu <code>.shape</code> da seguinte forma."
   ]
  },
  {
   "cell_type": "code",
   "execution_count": null,
   "metadata": {
    "collapsed": false
   },
   "outputs": [],
   "source": [
    "camera.shape"
   ]
  },
  {
   "cell_type": "markdown",
   "metadata": {},
   "source": [
    "Ou seja, um array com 512 linhas e 512 colunas."
   ]
  },
  {
   "cell_type": "markdown",
   "metadata": {
    "collapsed": true
   },
   "source": [
    "É possível carregar inclusive sua própria imagem como arrays do Numpy usando o módulo <code>io.imread()</code> da seguinte forma:\n"
   ]
  },
  {
   "cell_type": "code",
   "execution_count": null,
   "metadata": {
    "collapsed": true
   },
   "outputs": [],
   "source": [
    "import os\n",
    "from skimage import io"
   ]
  },
  {
   "cell_type": "code",
   "execution_count": null,
   "metadata": {
    "collapsed": true
   },
   "outputs": [],
   "source": [
    "filename = os.path.join(skimage.data_dir, 'moon.png')"
   ]
  },
  {
   "cell_type": "code",
   "execution_count": null,
   "metadata": {
    "collapsed": true
   },
   "outputs": [],
   "source": [
    "moon = io.imread(filename)"
   ]
  },
  {
   "cell_type": "code",
   "execution_count": null,
   "metadata": {
    "collapsed": true
   },
   "outputs": [],
   "source": []
  },
  {
   "cell_type": "markdown",
   "metadata": {
    "collapsed": false
   },
   "source": [
    "## 2) Informações rápidas sobre o Numpy\n",
    "\n",
    "Imagens manipuladas pelo <code>scikit-image</code> são simplesmente arrays do Numpy. Por este motivo, uma grande fração das operações nas imagens irá consistir em usar o Numpy."
   ]
  },
  {
   "cell_type": "code",
   "execution_count": null,
   "metadata": {
    "collapsed": true
   },
   "outputs": [],
   "source": [
    "from skimage import data\n"
   ]
  },
  {
   "cell_type": "code",
   "execution_count": null,
   "metadata": {
    "collapsed": false
   },
   "outputs": [],
   "source": [
    "camera = data.camera()\n",
    "type(camera)"
   ]
  },
  {
   "cell_type": "markdown",
   "metadata": {},
   "source": [
    "Podemos obter informações como a geometria da imagem (<code>shape</code>) e o número de pixels (<code>size</code>), respectivamente, da seguinte forma:"
   ]
  },
  {
   "cell_type": "code",
   "execution_count": null,
   "metadata": {
    "collapsed": false
   },
   "outputs": [],
   "source": [
    "camera.shape "
   ]
  },
  {
   "cell_type": "code",
   "execution_count": null,
   "metadata": {
    "collapsed": false
   },
   "outputs": [],
   "source": [
    "camera.size"
   ]
  },
  {
   "cell_type": "markdown",
   "metadata": {},
   "source": [
    "Além disso, é possível obter informções estatísticas sobre os valores cinza. (preto = 0, branco = 255, cinza = escala dentro desses limites).\n",
    " "
   ]
  },
  {
   "cell_type": "code",
   "execution_count": null,
   "metadata": {
    "collapsed": false
   },
   "outputs": [],
   "source": [
    "camera.min(), camera.max(), camera.mean()"
   ]
  },
  {
   "cell_type": "markdown",
   "metadata": {},
   "source": [
    "### 2.1 - data types (dtypes) das Imagens, o que significam e como o scikit-image as trata. (Adicionar Info depois ~ [fonte](http://scikit-image.org/docs/stable/user_guide/data_types.html#data-types) )\n",
    "\n",
    "Os arrays do Numpy podem ser de diferentes tipos de interger ou float. Para evitar distorções nas imagens, assumimos que imagens usam os seguintes dtypes ranges:\n",
    "\n",
    "|  dtype | Range           |\n",
    "|:------:|-----------------|\n",
    "| uint8  | 0 a 255         |\n",
    "| uint16 | 0 a 65535       |\n",
    "| uint32 | 0 a 2³²         |\n",
    "| float  | -1 a 1 ou 0 a 1 |\n",
    "| int8   | -128 a 127      |\n",
    "| int16  | -32768 a 32767  |\n",
    "| int32  | -2³¹ a (2³¹ -1) |\n",
    "\n",
    "Note que as imagens float devem ser restritas à range -1 a 1 mesmo sabendo que o data type por si só possa execeder este intervalo; Todos os interger dtypes, por outro lado, possuem intensidades de pixel que podem ocupar toda a range do data type. \n"
   ]
  },
  {
   "cell_type": "markdown",
   "metadata": {
    "collapsed": true
   },
   "source": [
    "### Indexação do Numpy\n",
    "A indexação pode ser usada para descobrir valores dos pixels, e para modificá-los. Para acessar valores do array na 10ª linha e 20ª coluna usa-se:"
   ]
  },
  {
   "cell_type": "code",
   "execution_count": null,
   "metadata": {
    "collapsed": false
   },
   "outputs": [],
   "source": [
    "camera[10,20]"
   ]
  },
  {
   "cell_type": "markdown",
   "metadata": {},
   "source": [
    "Para alterar o valor acima, ou torná-lo preto (0) usa o seguinte comando:"
   ]
  },
  {
   "cell_type": "code",
   "execution_count": null,
   "metadata": {
    "collapsed": true
   },
   "outputs": [],
   "source": [
    "camera[10,20] = 0"
   ]
  },
  {
   "cell_type": "code",
   "execution_count": null,
   "metadata": {
    "collapsed": false
   },
   "outputs": [],
   "source": [
    "camera[10,20]"
   ]
  },
  {
   "cell_type": "markdown",
   "metadata": {},
   "source": [
    "Mas tome cuidado na Indexação do Numpy, a primeira dimensão (**<code>camera.shape[0]</code>**) corresponde a linhas, enquanto a segunda (**<code>camera.shape[1]</code>**) corresponde a colunas, com origem em (**<code>camera.shape[0,0]</code>**) no canto superior esquerdo. Isto ocorre de forma similar as notações de matrizes/algebra linear, mas entra contraste com coordenadas cartesianas (x,y). Mais adiante abordaremos o assunto com mais detalhes.\n",
    "\n",
    "Indo um pouco mais adiante, além de pixels individuais, é possível acessar/modificar valores de um grupo de pixels usando as diferentes possibilidades de indexação do Numpy.\n",
    "\n",
    "- Slicing:\n",
    "<p>Na célula abaixo, transformamos todas as 10 primeiras linhas de camera em preto.</p>"
   ]
  },
  {
   "cell_type": "code",
   "execution_count": null,
   "metadata": {
    "collapsed": false
   },
   "outputs": [],
   "source": [
    "camera[:10] = 0\n",
    "\n",
    "plt.figure(figsize=(4, 4))\n",
    "plt.imshow(camera, cmap='gray', interpolation='nearest')\n",
    "plt.axis('off')\n",
    "plt.show()"
   ]
  },
  {
   "cell_type": "markdown",
   "metadata": {},
   "source": [
    "- Mascarando - Masking (indexando com mascaras de booleanas - True ou False):\n",
    "<p>Antes vamos definir a máscara para valores menores que 87, depois aplicamos a máscara em câmera e modificamos os valores da máscara em branco (255).</p>"
   ]
  },
  {
   "cell_type": "code",
   "execution_count": null,
   "metadata": {
    "collapsed": false
   },
   "outputs": [],
   "source": [
    "mask = camera < 87\n",
    "camera[mask] = 255\n",
    "\n",
    "plt.figure(figsize=(4, 4))\n",
    "plt.imshow(camera, cmap='gray', interpolation='nearest')\n",
    "plt.axis('off')\n",
    "plt.show()"
   ]
  },
  {
   "cell_type": "markdown",
   "metadata": {
    "collapsed": true
   },
   "source": [
    "- Indexando com grupos de indices"
   ]
  },
  {
   "cell_type": "code",
   "execution_count": null,
   "metadata": {
    "collapsed": true
   },
   "outputs": [],
   "source": [
    "import numpy as np"
   ]
  },
  {
   "cell_type": "code",
   "execution_count": null,
   "metadata": {
    "collapsed": false
   },
   "outputs": [],
   "source": [
    "import numpy as np\n",
    "inds_r = np.arange(len(camera))\n",
    "inds_c = 4 * inds_r %len(camera)"
   ]
  },
  {
   "cell_type": "markdown",
   "metadata": {},
   "source": [
    "**_ Obs: Em python, % retorna o resto de uma divisão x%y, na qual x é o numerador e y o denominador._**\n",
    "<code>\n",
    "\\>>> 6%2\n",
    "\\>>> 0 \n",
    "\\>>> 6%5\n",
    "\\>>> 1\n",
    "</code>\n",
    " **_em casos onde o numerador é menor que o denominador, o resultado da divisão é sempre zero e o resto será o próprio numerador pois trata-se de uma divisão por intergers_**.\n",
    " <code>\n",
    "\\>>> int(2/6)\n",
    "\\>>> 0 \n",
    "\\>>> 2%6\n",
    "\\>>> 2\n",
    "</code>\n",
    " "
   ]
  },
  {
   "cell_type": "code",
   "execution_count": null,
   "metadata": {
    "collapsed": false
   },
   "outputs": [],
   "source": [
    "camera[inds_r, inds_c] = 0\n",
    "\n",
    "plt.figure(figsize=(4, 4))\n",
    "plt.imshow(camera, cmap='gray', interpolation='nearest')\n",
    "plt.axis('off')\n",
    "plt.show()"
   ]
  },
  {
   "cell_type": "raw",
   "metadata": {},
   "source": [
    "Usar mascaras é muito útil para selecionar um grupo de pixels no qual você realizará as manipulações. A máscara pode ser qualquer array booleana do mesmo tamanho da imagem ( ou um shape que possa ser transmitido para o shape da imagem). Isto pode ser útil para definir uma região de interesse como um disco:"
   ]
  },
  {
   "cell_type": "code",
   "execution_count": null,
   "metadata": {
    "collapsed": false
   },
   "outputs": [],
   "source": [
    "import numpy as np\n",
    "from skimage import data\n",
    "import matplotlib.pyplot as plt\n",
    "\n",
    "camera = data.camera()\n",
    "camera[:10] = 0\n",
    "mask = camera < 87\n",
    "camera[mask] = 255\n",
    "inds_x = np.arange(len(camera))\n",
    "inds_y = (4 * inds_x) % len(camera)\n",
    "camera[inds_x, inds_y] = 0\n",
    "\n",
    "l_x, l_y = camera.shape[0], camera.shape[1]\n",
    "X, Y = np.ogrid[:l_x, :l_y]\n",
    "outer_disk_mask = (X - l_x / 2)**2 + (Y - l_y / 2)**2 > (l_x / 2)**2\n",
    "camera[outer_disk_mask] = 0\n",
    "\n",
    "plt.figure(figsize=(4, 4))\n",
    "plt.imshow(camera, cmap='gray', interpolation='nearest')\n",
    "plt.axis('off')\n",
    "plt.show()"
   ]
  },
  {
   "cell_type": "markdown",
   "metadata": {},
   "source": [
    "### Imagens Coloridas\n",
    " \n",
    "Tudo dito acima é válido para imagens coloridas. Elas também são array do Numpy, mas com uma dimensão a mais para os canais de cor ( vermelho, verde , azul). "
   ]
  },
  {
   "cell_type": "code",
   "execution_count": null,
   "metadata": {
    "collapsed": false
   },
   "outputs": [],
   "source": [
    "cat = data.chelsea()\n",
    "plt.imshow(cat)"
   ]
  },
  {
   "cell_type": "code",
   "execution_count": null,
   "metadata": {
    "collapsed": false
   },
   "outputs": [],
   "source": [
    "type(cat)"
   ]
  },
  {
   "cell_type": "code",
   "execution_count": null,
   "metadata": {
    "collapsed": false
   },
   "outputs": [],
   "source": [
    "cat.shape"
   ]
  },
  {
   "cell_type": "markdown",
   "metadata": {},
   "source": [
    "**<code>cat</code>** é uma imagem de 300x451 pixels com três canais (red, green, blue). Como as imagens acima, podemos obter e definir valores aos pixels."
   ]
  },
  {
   "cell_type": "code",
   "execution_count": null,
   "metadata": {
    "collapsed": false
   },
   "outputs": [],
   "source": [
    "cat[10,20]"
   ]
  },
  {
   "cell_type": "code",
   "execution_count": null,
   "metadata": {
    "collapsed": false
   },
   "outputs": [],
   "source": [
    "cat[50,60] = 0"
   ]
  },
  {
   "cell_type": "markdown",
   "metadata": {},
   "source": [
    "Para tornar verde o pixel:"
   ]
  },
  {
   "cell_type": "code",
   "execution_count": null,
   "metadata": {
    "collapsed": true
   },
   "outputs": [],
   "source": [
    "cat[50,61] = [0,255,0] #[red,green,blue]"
   ]
  },
  {
   "cell_type": "markdown",
   "metadata": {},
   "source": [
    "Para usar uma mask numa imagem colorida:"
   ]
  },
  {
   "cell_type": "code",
   "execution_count": null,
   "metadata": {
    "collapsed": false
   },
   "outputs": [],
   "source": [
    "cat = data.chelsea()\n",
    "reddish = cat[:,:,0] > 160\n",
    "cat[reddish] = [255, 0, 0]\n",
    "plt.imshow(cat)"
   ]
  },
  {
   "cell_type": "code",
   "execution_count": null,
   "metadata": {
    "collapsed": true
   },
   "outputs": [],
   "source": []
  },
  {
   "cell_type": "markdown",
   "metadata": {
    "collapsed": true
   },
   "source": [
    "### Convenções de Coordenadas\n",
    "<p>Como representamos imagens como arrays do Numpy, nossas coordenadas devem estar de acordo. Imagens em escala de cinza bidimensionais (2D) como a câmera acima são indexadas por linha (row) e coluna (columns) (abreviados para ou ** <code>row, col</code>** quanto para **<code>r, c</code>**), com o menor elemento (0,0) no topo do canto esquerdo. Em várias partes da biblioteca, você também verá **<code>rr, cc</code>** se referindo a listas com coordenadas de linhas e colunas.Isto é uma distinção do par ordenado (x,y), comumente denotando coordenadas cartesianas, onde x é a coordenada horizontal, y a vertical e a origem no canto inferior esquerdo. O pacote matblotlib, por exemplo, usa essa conveção.<p>\n",
    "<p> No caso de imagens coloridas (ou de multicanal), a última dimensão contém a informação das cores e é denotada por **<code>channel</code>** ou **<code>ch</code>**.\n",
    "\n",
    "Finalmente, em imagens 3D, como vídeos, Imagens de Ressonância Magnética (IRM), a dimensão que lidera é **<code>plane</code>**, abreviada como  **<code>pln</code>** ou **<code>pl</code>**.\n",
    "\n",
    "Essas dimensões são resumidas na tabela abaixo:\n",
    "\n",
    "| **Tipo de Imagem** | **Coordenadas**     |\n",
    "|:------------------:|---------------------|\n",
    "| 2D Escala de Cinza | (row, col)          |\n",
    "|    2D multicanal   | (row, col, ch)      |\n",
    "| 3D Escala de Cinza | (pln, row, col)     |\n",
    "| 3D multicanal      | (pln, row, col, ch) |\n",
    "\n",
    "Muitas funções in scikit-image operam diretamente em imagens 3D:"
   ]
  },
  {
   "cell_type": "code",
   "execution_count": 4,
   "metadata": {
    "collapsed": false
   },
   "outputs": [],
   "source": [
    "import numpy as np\n",
    "im3d = np.random.rand(100, 1000, 1000)"
   ]
  },
  {
   "cell_type": "code",
   "execution_count": null,
   "metadata": {
    "collapsed": true
   },
   "outputs": [],
   "source": [
    "print('im3d: ', im3d)"
   ]
  },
  {
   "cell_type": "code",
   "execution_count": 2,
   "metadata": {
    "collapsed": false
   },
   "outputs": [],
   "source": [
    "import numpy\n",
    "from skimage import morphology\n",
    "from scipy import ndimage as ndi\n",
    "seeds = ndi.label( im3d < 0.1)[0]\n",
    "ws = morphology.watershed(im3d, seeds)"
   ]
  },
  {
   "cell_type": "markdown",
   "metadata": {},
   "source": [
    "<p> Em muitos casos, a terceira dimensão da imagem tem uma resolução menor do que as outras duas. Algumas funções do scikit-image fornecem o argumento <code>spacing</code> para processar essas imagens:</p>\n"
   ]
  },
  {
   "cell_type": "code",
   "execution_count": 5,
   "metadata": {
    "collapsed": true
   },
   "outputs": [],
   "source": [
    "from skimage import segmentation\n",
    "slics = segmentation.slic(im3d, spacing=[5, 1, 1], multichannel = False)"
   ]
  },
  {
   "cell_type": "markdown",
   "metadata": {},
   "source": [
    "<p>Já em outros, o processamento deve ser feito em planos.  Quando os planos forem a dimensão que lidera, podemos usar a seguinte sintaxe:</p>\n",
    "<p>**<code>\n",
    "from skimage import filters\n",
    "edges = np.zeros_like(im3d)\n",
    "for pln, image in enumerate(im3d):\n",
    "    #faça iterações ao longo da dimensão governante (planos)\n",
    "    edges[pln] = filters.sobel(image)\n",
    "</code>**</p>    "
   ]
  },
  {
   "cell_type": "markdown",
   "metadata": {},
   "source": [
    "### Notas na ordem de um array\n",
    "<p>Embora o rótulo dos eixos pareça arbitrário, ele pode ter um efeito significante na velocidade das operações. Isto acontece porque os processadores modernos nunca fornecem apenas um item da memória, mas um grupo de itens adjacentes. Isto é chamado de **_prefetching_**. Logo, processar elementos que estão próximos uns aos outros na memória é mais rápido do que processá-los em uma ordem diferente, mesmo que o número de operações seja o mesmo. </p>"
   ]
  },
  {
   "cell_type": "code",
   "execution_count": 9,
   "metadata": {
    "collapsed": true
   },
   "outputs": [],
   "source": [
    "def in_order_multiply(arr, scalar):\n",
    "    for plane in list (range(arr.shape[0])):\n",
    "        arr[plane, :, :] *= scalar       "
   ]
  },
  {
   "cell_type": "code",
   "execution_count": 10,
   "metadata": {
    "collapsed": false
   },
   "outputs": [],
   "source": [
    "def out_of_order_multiply(arr,scalar):\n",
    "    for plane in list(range(arr.shape[2])):\n",
    "        arr[:,:,plane] *= scalar"
   ]
  },
  {
   "cell_type": "code",
   "execution_count": 16,
   "metadata": {
    "collapsed": false
   },
   "outputs": [],
   "source": [
    "import time\n",
    "im3d = np.random.rand(100, 1024, 1024)                     "
   ]
  },
  {
   "cell_type": "code",
   "execution_count": 17,
   "metadata": {
    "collapsed": false
   },
   "outputs": [
    {
     "name": "stdout",
     "output_type": "stream",
     "text": [
      "0.11 seconds\n"
     ]
    }
   ],
   "source": [
    "t0 = time.time()\n",
    "x = in_order_multiply(im3d, 5)\n",
    "t1 = time.time()\n",
    "print(\"%.2f seconds\" % (t1 - t0)) "
   ]
  },
  {
   "cell_type": "code",
   "execution_count": 18,
   "metadata": {
    "collapsed": false
   },
   "outputs": [
    {
     "data": {
      "text/plain": [
       "(1024, 1024, 100)"
      ]
     },
     "execution_count": 18,
     "metadata": {},
     "output_type": "execute_result"
    }
   ],
   "source": [
    "im3d_t = np.transpose(im3d).copy()\n",
    "im3d_t.shape"
   ]
  },
  {
   "cell_type": "code",
   "execution_count": 19,
   "metadata": {
    "collapsed": false
   },
   "outputs": [
    {
     "name": "stdout",
     "output_type": "stream",
     "text": [
      "1.45 seconds\n"
     ]
    }
   ],
   "source": [
    "s0 = time.time()\n",
    "x = out_of_order_multiply(im3d, 5)\n",
    "s1 = time.time()\n",
    "print(\"%.2f seconds\" % (s1 - s0))"
   ]
  },
  {
   "cell_type": "code",
   "execution_count": 20,
   "metadata": {
    "collapsed": false
   },
   "outputs": [
    {
     "name": "stdout",
     "output_type": "stream",
     "text": [
      "Speedup: 13.1x\n"
     ]
    }
   ],
   "source": [
    "print(\"Speedup: %.1fx\" % ((s1 - s0) / (t1 - t0)))"
   ]
  },
  {
   "cell_type": "markdown",
   "metadata": {},
   "source": [
    "Quando a dimensão que você está iterando é ainda maior, a velocidade é ainda mais dramática. Vale a pena pensar sobre esta localização do dado quando for escrever algoritmos. \n",
    "\n",
    "### Notas sobre tempo\n",
    "<p> Embora scikit-image (0.11) não suporte atualmente funções para trabalhar especificamente com dados 3D variando no tempo, nossa compatibilidade com arrays numpy permitem que trabalhemos naturalmente com um array 5D de shape (t,pln,row,col,ch):</p>\n",
    "<p>**<code>\n",
    "for timepoint in image5d:\n",
    "    #cada timepoint é uma imagem 3D multicanal\n",
    "    faça_algo_com(timepoint)\n",
    "</code>\n",
    "**</p>\n",
    "Podemos complementar a tabela acima com: \n",
    "\n",
    "|  **Tipo de Imagem**   |   **Coordenadas**     |\n",
    "|:---------------------:|-----------------------|\n",
    "|   2D Escala de Cinza  |      (row, col)       |\n",
    "|      2D multicanal    |     (row, col, ch)    |\n",
    "|   3D Escala de Cinza  |    (pln, row, col)    |\n",
    "|   3D multicanal       |  (pln, row, col, ch)  |\n",
    "| **2D video colorido** | **(t, row, col, ch)** |\n",
    "|**3D video multicanal**|**(t,pln,row,col,ch)** | "
   ]
  },
  {
   "cell_type": "code",
   "execution_count": null,
   "metadata": {
    "collapsed": true
   },
   "outputs": [],
   "source": []
  }
 ],
 "metadata": {
  "kernelspec": {
   "display_name": "Python 3",
   "language": "python",
   "name": "python3"
  },
  "language_info": {
   "codemirror_mode": {
    "name": "ipython",
    "version": 3
   },
   "file_extension": ".py",
   "mimetype": "text/x-python",
   "name": "python",
   "nbconvert_exporter": "python",
   "pygments_lexer": "ipython3",
   "version": "3.5.1"
  }
 },
 "nbformat": 4,
 "nbformat_minor": 0
}
