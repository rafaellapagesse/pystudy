{
 "cells": [
  {
   "cell_type": "code",
   "execution_count": null,
   "metadata": {
    "collapsed": false
   },
   "outputs": [],
   "source": [
    "%matplotlib inline"
   ]
  },
  {
   "cell_type": "markdown",
   "metadata": {
    "collapsed": true
   },
   "source": [
    "# scikit-image \n",
    "\n",
    "## 0) Referências\n",
    "- http://scikit-image.org/docs/stable/user_guide.html\n",
    "- http://scikit-image.org/docs/stable/api/api.html\n",
    "- \n",
    "\n",
    "\n",
    "## 1) Introdução\n",
    "\n",
    "<p> O **<code>scikit-image</code>** é um pacote do Python para processamento de imagens que funciona com arrays do numpy, importado como skimage. \n"
   ]
  },
  {
   "cell_type": "code",
   "execution_count": null,
   "metadata": {
    "collapsed": true
   },
   "outputs": [],
   "source": [
    "import skimage"
   ]
  },
  {
   "cell_type": "markdown",
   "metadata": {},
   "source": [
    "<p>A maioria de suas funções são encontradas em submódulos. A lista contendo os submódulos e funções  do skimage é encontrada [aqui](http://scikit-image.org/docs/stable/api/api.html). Dentro do scikit-image, imagens são representadas como Numpy arrays, por exemplo arrays 2-D para imagens em escala de cinza 2-D.</p>\n",
    "<p>O submódulo **<code>skimage.data</code>** fornece um grupo de funções retornando exemplos de imagens que podem ser usados para se acostumar rapidamente com o uso das funções do **skimage**."
   ]
  },
  {
   "cell_type": "code",
   "execution_count": null,
   "metadata": {
    "collapsed": true
   },
   "outputs": [],
   "source": [
    "from skimage import data"
   ]
  },
  {
   "cell_type": "markdown",
   "metadata": {},
   "source": [
    "Uma das imagens que estão neste submódulo é  <code>camera</code>. A partir dela, podemos extrair informações como:"
   ]
  },
  {
   "cell_type": "code",
   "execution_count": null,
   "metadata": {
    "collapsed": true
   },
   "outputs": [],
   "source": [
    "camera = data.camera()"
   ]
  },
  {
   "cell_type": "code",
   "execution_count": null,
   "metadata": {
    "collapsed": false
   },
   "outputs": [],
   "source": [
    "type(camera)"
   ]
  },
  {
   "cell_type": "markdown",
   "metadata": {},
   "source": [
    "Como dito acima, as imagens são transformadas em arrays do Numpy. Como todo array, pode-se extrair seu <code>.shape</code> da seguinte forma."
   ]
  },
  {
   "cell_type": "code",
   "execution_count": null,
   "metadata": {
    "collapsed": false
   },
   "outputs": [],
   "source": [
    "camera.shape"
   ]
  },
  {
   "cell_type": "markdown",
   "metadata": {},
   "source": [
    "Ou seja, um array com 512 linhas e 512 colunas."
   ]
  },
  {
   "cell_type": "markdown",
   "metadata": {
    "collapsed": true
   },
   "source": [
    "É possível carregar inclusive sua própria imagem como arrays do Numpy usando o módulo <code>io.imread()</code> da seguinte forma:\n"
   ]
  },
  {
   "cell_type": "code",
   "execution_count": null,
   "metadata": {
    "collapsed": true
   },
   "outputs": [],
   "source": [
    "import os\n",
    "from skimage import io"
   ]
  },
  {
   "cell_type": "code",
   "execution_count": null,
   "metadata": {
    "collapsed": true
   },
   "outputs": [],
   "source": [
    "filename = os.path.join(skimage.data_dir, 'moon.png')"
   ]
  },
  {
   "cell_type": "code",
   "execution_count": null,
   "metadata": {
    "collapsed": true
   },
   "outputs": [],
   "source": [
    "moon = io.imread(filename)"
   ]
  },
  {
   "cell_type": "code",
   "execution_count": null,
   "metadata": {
    "collapsed": true
   },
   "outputs": [],
   "source": []
  },
  {
   "cell_type": "markdown",
   "metadata": {
    "collapsed": false
   },
   "source": [
    "## 2) Informações rápidas sobre o Numpy\n",
    "\n",
    "Imagens manipuladas pelo <code>scikit-image</code> são simplesmente arrays do Numpy. Por este motivo, uma grande fração das operações nas imagens irá consistir em usar o Numpy."
   ]
  },
  {
   "cell_type": "code",
   "execution_count": null,
   "metadata": {
    "collapsed": true
   },
   "outputs": [],
   "source": [
    "from skimage import data\n"
   ]
  },
  {
   "cell_type": "code",
   "execution_count": null,
   "metadata": {
    "collapsed": false
   },
   "outputs": [],
   "source": [
    "camera = data.camera()\n",
    "type(camera)"
   ]
  },
  {
   "cell_type": "markdown",
   "metadata": {},
   "source": [
    "Podemos obter informações como a geometria da imagem (<code>shape</code>) e o número de pixels (<code>size</code>), respectivamente, da seguinte forma:"
   ]
  },
  {
   "cell_type": "code",
   "execution_count": null,
   "metadata": {
    "collapsed": false
   },
   "outputs": [],
   "source": [
    "camera.shape "
   ]
  },
  {
   "cell_type": "code",
   "execution_count": null,
   "metadata": {
    "collapsed": false
   },
   "outputs": [],
   "source": [
    "camera.size"
   ]
  },
  {
   "cell_type": "markdown",
   "metadata": {},
   "source": [
    "Além disso, é possível obter informções estatísticas sobre os valores cinza. (preto = 0, branco = 255, cinza = escala dentro desses limites).\n",
    " "
   ]
  },
  {
   "cell_type": "code",
   "execution_count": null,
   "metadata": {
    "collapsed": false
   },
   "outputs": [],
   "source": [
    "camera.min(), camera.max(), camera.mean()"
   ]
  },
  {
   "cell_type": "markdown",
   "metadata": {
    "collapsed": true
   },
   "source": [
    "### Indexação do Numpy\n",
    "A indexação pode ser usada para descobrir valores dos pixels, e para modificá-los. Para acessar valores do array na 10ª linha e 20ª coluna usa-se:"
   ]
  },
  {
   "cell_type": "code",
   "execution_count": null,
   "metadata": {
    "collapsed": false
   },
   "outputs": [],
   "source": [
    "camera[10,20]"
   ]
  },
  {
   "cell_type": "markdown",
   "metadata": {},
   "source": [
    "Para alterar o valor acima, ou torná-lo preto (0) usa o seguinte comando:"
   ]
  },
  {
   "cell_type": "code",
   "execution_count": null,
   "metadata": {
    "collapsed": true
   },
   "outputs": [],
   "source": [
    "camera[10,20] = 0"
   ]
  },
  {
   "cell_type": "code",
   "execution_count": null,
   "metadata": {
    "collapsed": false
   },
   "outputs": [],
   "source": [
    "camera[10,20]"
   ]
  },
  {
   "cell_type": "markdown",
   "metadata": {},
   "source": [
    "Mas tome cuidado na Indexação do Numpy, a primeira dimensão (**<code>camera.shape[0]</code>**) corresponde a linhas, enquanto a segunda (**<code>camera.shape[1]</code>**) corresponde a colunas, com origem em (**<code>camera.shape[0,0]</code>**) no canto superior esquerdo. Isto ocorre de forma similar as notações de matrizes/algebra linear, mas entra contraste com coordenadas cartesianas (x,y). Mais adiante abordaremos o assunto com mais detalhes.\n",
    "\n",
    "Indo um pouco mais adiante, além de pixels individuais, é possível acessar/modificar valores de um grupo de pixels usando as diferentes possibilidades de indexação do Numpy.\n",
    "\n",
    "- Slicing:\n",
    "<p>Na célula abaixo, transformamos todas as 10 primeiras linhas de camera em preto.</p>"
   ]
  },
  {
   "cell_type": "code",
   "execution_count": null,
   "metadata": {
    "collapsed": false
   },
   "outputs": [],
   "source": [
    "camera[:10] = 0\n",
    "\n",
    "plt.figure(figsize=(4, 4))\n",
    "plt.imshow(camera, cmap='gray', interpolation='nearest')\n",
    "plt.axis('off')\n",
    "plt.show()"
   ]
  },
  {
   "cell_type": "markdown",
   "metadata": {},
   "source": [
    "- Mascarando - Masking (indexando com mascaras de booleanas - True ou False):\n",
    "<p>Antes vamos definir a máscara para valores menores que 87, depois aplicamos a máscara em câmera e modificamos os valores da máscara em branco (255).</p>"
   ]
  },
  {
   "cell_type": "code",
   "execution_count": null,
   "metadata": {
    "collapsed": false
   },
   "outputs": [],
   "source": [
    "mask = camera < 87\n",
    "camera[mask] = 255\n",
    "\n",
    "plt.figure(figsize=(4, 4))\n",
    "plt.imshow(camera, cmap='gray', interpolation='nearest')\n",
    "plt.axis('off')\n",
    "plt.show()"
   ]
  },
  {
   "cell_type": "markdown",
   "metadata": {
    "collapsed": true
   },
   "source": [
    "- Indexando com grupos de indices"
   ]
  },
  {
   "cell_type": "code",
   "execution_count": null,
   "metadata": {
    "collapsed": true
   },
   "outputs": [],
   "source": [
    "import numpy as np"
   ]
  },
  {
   "cell_type": "code",
   "execution_count": null,
   "metadata": {
    "collapsed": false
   },
   "outputs": [],
   "source": [
    "import numpy as np\n",
    "inds_r = np.arange(len(camera))\n",
    "inds_c = 4 * inds_r %len(camera)"
   ]
  },
  {
   "cell_type": "markdown",
   "metadata": {},
   "source": [
    "**_ Obs: Em python, % retorna o resto de uma divisão x%y, na qual x é o numerador e y o denominador._**\n",
    "<code>\n",
    "\\>>> 6%2\n",
    "\\>>> 0 \n",
    "\\>>> 6%5\n",
    "\\>>> 1\n",
    "</code>\n",
    " **_em casos onde o numerador é menor que o denominador, o resultado da divisão é sempre zero e o resto será o próprio numerador pois trata-se de uma divisão por intergers_**.\n",
    " <code>\n",
    "\\>>> int(2/6)\n",
    "\\>>> 0 \n",
    "\\>>> 2%6\n",
    "\\>>> 2\n",
    "</code>\n",
    " "
   ]
  },
  {
   "cell_type": "code",
   "execution_count": null,
   "metadata": {
    "collapsed": false
   },
   "outputs": [],
   "source": [
    "camera[inds_r, inds_c] = 0\n",
    "\n",
    "plt.figure(figsize=(4, 4))\n",
    "plt.imshow(camera, cmap='gray', interpolation='nearest')\n",
    "plt.axis('off')\n",
    "plt.show()"
   ]
  },
  {
   "cell_type": "raw",
   "metadata": {},
   "source": [
    "Usar mascaras é muito útil para selecionar um grupo de pixels no qual você realizará as manipulações. A máscara pode ser qualquer array booleana do mesmo tamanho da imagem ( ou um shape que possa ser transmitido para o shape da imagem). Isto pode ser útil para definir uma região de interesse como um disco:"
   ]
  },
  {
   "cell_type": "code",
   "execution_count": null,
   "metadata": {
    "collapsed": false
   },
   "outputs": [],
   "source": [
    "import numpy as np\n",
    "from skimage import data\n",
    "import matplotlib.pyplot as plt\n",
    "\n",
    "camera = data.camera()\n",
    "camera[:10] = 0\n",
    "mask = camera < 87\n",
    "camera[mask] = 255\n",
    "inds_x = np.arange(len(camera))\n",
    "inds_y = (4 * inds_x) % len(camera)\n",
    "camera[inds_x, inds_y] = 0\n",
    "\n",
    "l_x, l_y = camera.shape[0], camera.shape[1]\n",
    "X, Y = np.ogrid[:l_x, :l_y]\n",
    "outer_disk_mask = (X - l_x / 2)**2 + (Y - l_y / 2)**2 > (l_x / 2)**2\n",
    "camera[outer_disk_mask] = 0\n",
    "\n",
    "plt.figure(figsize=(4, 4))\n",
    "plt.imshow(camera, cmap='gray', interpolation='nearest')\n",
    "plt.axis('off')\n",
    "plt.show()"
   ]
  },
  {
   "cell_type": "markdown",
   "metadata": {},
   "source": [
    "### Imagens Coloridas\n",
    " \n",
    "Tudo dito acima é válido para imagens coloridas. Elas também são array do Numpy, mas com uma dimensão a mais para os canais de cor ( vermelho, verde , azul). "
   ]
  },
  {
   "cell_type": "code",
   "execution_count": null,
   "metadata": {
    "collapsed": false
   },
   "outputs": [],
   "source": [
    "cat = data.chelsea()\n",
    "plt.imshow(cat)"
   ]
  },
  {
   "cell_type": "code",
   "execution_count": null,
   "metadata": {
    "collapsed": false
   },
   "outputs": [],
   "source": [
    "type(cat)"
   ]
  },
  {
   "cell_type": "code",
   "execution_count": null,
   "metadata": {
    "collapsed": false
   },
   "outputs": [],
   "source": [
    "cat.shape"
   ]
  },
  {
   "cell_type": "markdown",
   "metadata": {},
   "source": [
    "**<code>cat</code>** é uma imagem de 300x451 pixels com três canais (red, green, blue). Como as imagens acima, podemos obter e definir valores aos pixels."
   ]
  },
  {
   "cell_type": "code",
   "execution_count": null,
   "metadata": {
    "collapsed": false
   },
   "outputs": [],
   "source": [
    "cat[10,20]"
   ]
  },
  {
   "cell_type": "code",
   "execution_count": null,
   "metadata": {
    "collapsed": false
   },
   "outputs": [],
   "source": [
    "cat[50,60] = 0"
   ]
  },
  {
   "cell_type": "markdown",
   "metadata": {},
   "source": [
    "Para tornar verde o pixel:"
   ]
  },
  {
   "cell_type": "code",
   "execution_count": null,
   "metadata": {
    "collapsed": true
   },
   "outputs": [],
   "source": [
    "cat[50,61] = [0,255,0] #[red,green,blue]"
   ]
  },
  {
   "cell_type": "markdown",
   "metadata": {},
   "source": [
    "Para usar uma mask numa imagem colorida:"
   ]
  },
  {
   "cell_type": "code",
   "execution_count": null,
   "metadata": {
    "collapsed": false
   },
   "outputs": [],
   "source": [
    "cat = data.chelsea()\n",
    "reddish = cat[:,:,0] > 160\n",
    "cat[reddish] = [255, 0, 0]\n",
    "plt.imshow(cat)"
   ]
  },
  {
   "cell_type": "code",
   "execution_count": null,
   "metadata": {
    "collapsed": true
   },
   "outputs": [],
   "source": []
  },
  {
   "cell_type": "markdown",
   "metadata": {
    "collapsed": true
   },
   "source": [
    "### Convenções de Coordenadas\n",
    "<p>Como representamos imagens como arrays do Numpy, nossas coordenadas devem estar de acordo. Imagens em escala de cinza bidimensionais (2D) como a câmera acima são indexadas por linha (row) e coluna (columns) (abreviados para ou ** <code>row, col</code>** quanto para **<code>r, c</code>**), com o menor elemento (0,0) no topo do canto esquerdo. Em várias partes da biblioteca, você também verá **<code>rr, cc</code>** se referindo a listas com coordenadas de linhas e colunas.Isto é uma distinção do par ordenado (x,y), comumente denotando coordenadas cartesianas, onde x é a coordenada horizontal, y a vertical e a origem no canto inferior esquerdo. O pacote matblotlib, por exemplo, usa essa conveção.<p>\n",
    "<p> No caso de imagens coloridas (ou de multicanal), a última dimensão contém a informação das cores e é denotada por **<code>channel</code>** ou **<code>ch</code>**.\n",
    "\n",
    "Finalmente, em imagens 3D, como vídeos, Imagens de Ressonância Magnética (IRM), a dimensão que lidera é **<code>plane</code>**, abreviada como  **<code>pln</code>** ou **<code>pl</code>**.\n",
    "\n",
    "Essas dimensões são resumidas na tabela abaixo:\n",
    "\n",
    "| **Tipo de Imagem** | **Coordenadas**     |\n",
    "|:------------------:|---------------------|\n",
    "| 2D Escala de Cinza | (row, col)          |\n",
    "|    2D multicanal   | (row, col, ch)      |\n",
    "| 3D Escala de Cinza | (pln, row, col)     |\n",
    "| 3D multicanal      | (pln, row, col, ch) |\n",
    "\n",
    "Muitas funções in scikit-image operam diretamente em imagens 3D:"
   ]
  },
  {
   "cell_type": "code",
   "execution_count": null,
   "metadata": {
    "collapsed": false
   },
   "outputs": [],
   "source": [
    "import numpy as np\n",
    "im3d = np.random.rand(100, 1000, 1000)"
   ]
  },
  {
   "cell_type": "code",
   "execution_count": null,
   "metadata": {
    "collapsed": true
   },
   "outputs": [],
   "source": [
    "print('im3d: ', im3d)"
   ]
  },
  {
   "cell_type": "code",
   "execution_count": null,
   "metadata": {
    "collapsed": false
   },
   "outputs": [],
   "source": [
    "import numpy\n",
    "from skimage import morphology\n",
    "from scipy import ndimage as ndi\n",
    "seeds = ndi.label( im3d < 0.1)[0]\n",
    "ws = morphology.watershed(im3d, seeds)"
   ]
  },
  {
   "cell_type": "markdown",
   "metadata": {},
   "source": [
    "<p> Em muitos casos, a terceira dimensão da imagem tem uma resolução menor do que as outras duas. Algumas funções do scikit-image fornecem o argumento <code>spacing</code> para processar essas imagens:</p>\n"
   ]
  },
  {
   "cell_type": "code",
   "execution_count": null,
   "metadata": {
    "collapsed": true
   },
   "outputs": [],
   "source": [
    "from skimage import segmentation\n",
    "slics = segmentation.slic(im3d, spacing=[5, 1, 1], multichannel = False)"
   ]
  },
  {
   "cell_type": "markdown",
   "metadata": {},
   "source": [
    "<p>Já em outros, o processamento deve ser feito em planos.  Quando os planos forem a dimensão que lidera, podemos usar a seguinte sintaxe:</p>\n",
    "<p>**<code>\n",
    "from skimage import filters\n",
    "edges = np.zeros_like(im3d)\n",
    "for pln, image in enumerate(im3d):\n",
    "    #faça iterações ao longo da dimensão governante (planos)\n",
    "    edges[pln] = filters.sobel(image)\n",
    "</code>**</p>    "
   ]
  },
  {
   "cell_type": "markdown",
   "metadata": {},
   "source": [
    "### Notas na ordem de um array\n",
    "<p>Embora o rótulo dos eixos pareça arbitrário, ele pode ter um efeito significante na velocidade das operações. Isto acontece porque os processadores modernos nunca fornecem apenas um item da memória, mas um grupo de itens adjacentes. Isto é chamado de **_prefetching_**. Logo, processar elementos que estão próximos uns aos outros na memória é mais rápido do que processá-los em uma ordem diferente, mesmo que o número de operações seja o mesmo. </p>"
   ]
  },
  {
   "cell_type": "code",
   "execution_count": null,
   "metadata": {
    "collapsed": true
   },
   "outputs": [],
   "source": [
    "def in_order_multiply(arr, scalar):\n",
    "    for plane in list (range(arr.shape[0])):\n",
    "        arr[plane, :, :] *= scalar       "
   ]
  },
  {
   "cell_type": "code",
   "execution_count": null,
   "metadata": {
    "collapsed": false
   },
   "outputs": [],
   "source": [
    "def out_of_order_multiply(arr,scalar):\n",
    "    for plane in list(range(arr.shape[2])):\n",
    "        arr[:,:,plane] *= scalar"
   ]
  },
  {
   "cell_type": "code",
   "execution_count": null,
   "metadata": {
    "collapsed": false
   },
   "outputs": [],
   "source": [
    "import time\n",
    "im3d = np.random.rand(100, 1024, 1024)                     "
   ]
  },
  {
   "cell_type": "code",
   "execution_count": null,
   "metadata": {
    "collapsed": false
   },
   "outputs": [],
   "source": [
    "t0 = time.time()\n",
    "x = in_order_multiply(im3d, 5)\n",
    "t1 = time.time()\n",
    "print(\"%.2f seconds\" % (t1 - t0)) "
   ]
  },
  {
   "cell_type": "code",
   "execution_count": null,
   "metadata": {
    "collapsed": false
   },
   "outputs": [],
   "source": [
    "im3d_t = np.transpose(im3d).copy()\n",
    "im3d_t.shape"
   ]
  },
  {
   "cell_type": "code",
   "execution_count": null,
   "metadata": {
    "collapsed": false
   },
   "outputs": [],
   "source": [
    "s0 = time.time()\n",
    "x = out_of_order_multiply(im3d, 5)\n",
    "s1 = time.time()\n",
    "print(\"%.2f seconds\" % (s1 - s0))"
   ]
  },
  {
   "cell_type": "code",
   "execution_count": null,
   "metadata": {
    "collapsed": false
   },
   "outputs": [],
   "source": [
    "print(\"Speedup: %.1fx\" % ((s1 - s0) / (t1 - t0)))"
   ]
  },
  {
   "cell_type": "markdown",
   "metadata": {},
   "source": [
    "Quando a dimensão que você está iterando é ainda maior, a velocidade é ainda mais dramática. Vale a pena pensar sobre esta localização do dado quando for escrever algoritmos. \n",
    "\n",
    "### Notas sobre tempo\n",
    "<p> Embora scikit-image (0.11) não suporte atualmente funções para trabalhar especificamente com dados 3D variando no tempo, nossa compatibilidade com arrays numpy permitem que trabalhemos naturalmente com um array 5D de shape (t,pln,row,col,ch):</p>\n",
    "<p>**<code>\n",
    "for timepoint in image5d:\n",
    "    #cada timepoint é uma imagem 3D multicanal\n",
    "    faça_algo_com(timepoint)\n",
    "</code>\n",
    "**</p>\n",
    "Podemos complementar a tabela acima com: \n",
    "\n",
    "|  **Tipo de Imagem**   |   **Coordenadas**     |\n",
    "|:---------------------:|-----------------------|\n",
    "|   2D Escala de Cinza  |      (row, col)       |\n",
    "|      2D multicanal    |     (row, col, ch)    |\n",
    "|   3D Escala de Cinza  |    (pln, row, col)    |\n",
    "|   3D multicanal       |  (pln, row, col, ch)  |\n",
    "| **2D video colorido** | **(t, row, col, ch)** |\n",
    "|**3D video multicanal**|**(t,pln,row,col,ch)** | "
   ]
  },
  {
   "cell_type": "markdown",
   "metadata": {},
   "source": [
    "## 3) Data types (dtypes) das Imagens, o que significam e como o scikit-image as trata. \n",
    "\n",
    "Os arrays do Numpy podem ser de diferentes tipos de interger ou float. Para evitar distorções nas imagens, assumimos que imagens usam os seguintes dtypes ranges:\n",
    "\n",
    "|  dtype | Range           |\n",
    "|:------:|-----------------|\n",
    "| uint8  | 0 a 255         | \n",
    "| uint16 | 0 a 65535       |\n",
    "| uint32 | 0 a 2³²         |\n",
    "| float  | -1 a 1 ou 0 a 1 |\n",
    "| int8   | -128 a 127      |\n",
    "| int16  | -32768 a 32767  |\n",
    "| int32  | -2³¹ a (2³¹ -1) |\n",
    "\n",
    "Note que as imagens float devem ser restritas à range -1 a 1 mesmo sabendo que o data type por si só possa execeder este intervalo; Todos os interger dtypes, por outro lado, possuem intensidades de pixel que podem ocupar toda a range do data type.\n",
    "O **u** em uint8, por exemplo, vem de _unsigned_ e faz com que os pixels só assumam valores positivos.\n",
    "Para cada intx dtype, temos  que 2^x é o range daquele datatype. "
   ]
  },
  {
   "cell_type": "code",
   "execution_count": null,
   "metadata": {
    "collapsed": false
   },
   "outputs": [],
   "source": [
    "print(2**8)"
   ]
  },
  {
   "cell_type": "markdown",
   "metadata": {},
   "source": [
    "Logo, temos de 0 a 255 (256 possibilidades) para possíveis valores em um dtype uint8.\n",
    "<p> As funções no skimage são criadas para aceitar todos esses dtypes, mas, para eficiência, pode retornar uma imagem de um dtype diferente. Se você precisar de um dtype específico, o skimage fornece funções que convertem dtypes e reorganizam a intensidade das imagens. Não se deve usar **<code>astype</code>** em uma imagem, pois ela viola essas regras sobre o range de cada dtype.,</p>\n",
    "\n",
    "### Tipos de Entrada (Input)\n",
    "<p> Embora tentemos preservar o range dos dados e o tipo das imagens de entrada, as funções podem suportar apenas um subset destes dtypes. Neste caso, o input será convertido para o tipo requerido (se possível) e uma mensagem de aviso será impressa ao log se uma cópia for necessária. Os tipos requeridos devem notados com bastante atenção nos docstrings.</p>\n",
    "\n",
    "|    Função    |          Descrição         |\n",
    "|:------------:|:--------------------------:|\n",
    "| img_as_float |    Converte para 64-bit.   |\n",
    "| img_as_ubyte |  Converte para 8-bit uint. |\n",
    "|  img_as_uint | Converte para 16-bit uint. |\n",
    "|  img_as_int  |  Converte para 16-bit int. |\n",
    "\n",
    "<p> Estas funções convertem imagens para os dtypes desejados e redistribui os seus valores. Se a conversão reduzir a precisão da imagem, um aviso é mostrado: "
   ]
  },
  {
   "cell_type": "code",
   "execution_count": null,
   "metadata": {
    "collapsed": false
   },
   "outputs": [],
   "source": [
    "from skimage import img_as_ubyte\n",
    "import numpy as np\n",
    "image = np.array([0, 0.5, 1], dtype=float)\n",
    "img_as_ubyte(image)"
   ]
  },
  {
   "cell_type": "markdown",
   "metadata": {},
   "source": [
    "<p>Além disso, algumas funções recebem um argumento <code>preserve_range</code> \n",
    "nas quais aconversão da range é conveniente, mas não necessária. Por exemplo, a interpolação em <code>transform.warp</code> requer uma imagem do tipo float que deve ter uma _range_ de [0, 1]. Logo, por padrão, a escala das imagens de entrada será reajustada para essa _range_. Entretanto, em alguns casos, os valores da imagem representam medidas físicas, como temperatura ou valores de probabilidade de chover, que os úsuários não querem que sejam \"reescalados\". Com <code>preserve_range=True</code>, a range original do dado será preservada, mesmo que o output seja uma imagem float. Os usuários devem se assegurar que essa imagem fora do padrão seja processada adequadamente por funções downstream(?*?), que devem esperar uma imagem em [0, 1].</p>\n"
   ]
  },
  {
   "cell_type": "code",
   "execution_count": null,
   "metadata": {
    "collapsed": true
   },
   "outputs": [],
   "source": [
    "from skimage import data\n",
    "from skimage.transform import rescale"
   ]
  },
  {
   "cell_type": "code",
   "execution_count": null,
   "metadata": {
    "collapsed": false
   },
   "outputs": [],
   "source": [
    "image = data.coins()\n",
    "image.dtype, image.min(), image.max(), image.shape"
   ]
  },
  {
   "cell_type": "code",
   "execution_count": null,
   "metadata": {
    "collapsed": true
   },
   "outputs": [],
   "source": [
    "rescaled = rescale(image, 0.5)"
   ]
  },
  {
   "cell_type": "code",
   "execution_count": null,
   "metadata": {
    "collapsed": false
   },
   "outputs": [],
   "source": [
    "(rescaled.dtype, np.round(rescaled.min(),4), np.round(rescaled.max(),4), rescaled.shape)"
   ]
  },
  {
   "cell_type": "code",
   "execution_count": null,
   "metadata": {
    "collapsed": true
   },
   "outputs": [],
   "source": [
    "rescaled = rescale(image, 0.5, preserve_range=True)"
   ]
  },
  {
   "cell_type": "code",
   "execution_count": null,
   "metadata": {
    "collapsed": false
   },
   "outputs": [],
   "source": [
    "(rescaled.dtype, np.round(rescaled.min()), np.round(rescaled.max()), rescaled.shape)"
   ]
  },
  {
   "cell_type": "markdown",
   "metadata": {},
   "source": [
    "### Tipos de Saída (output)\n",
    "<p>O tipo de output de uma função é determinado pelo autor da função e é documentado para benefício do usuário. Enquanto isso requer que o usuário converta explicitamente para o formato do output desejado, isso também garante que nenhuma copia desnecessária ocupe espaço. </p>\n",
    "<p>O usuário que requer um tipo específico de output (para propósitos de exibição), pode escrever:</p> \n",
    "<code>\n",
    "\\>>>from skimage import img_as_uint\n",
    "\\>>>out = img_as_uint(sobel(image))\n",
    "\\>>>plt.imshow(out)\n",
    "</code>"
   ]
  },
  {
   "cell_type": "markdown",
   "metadata": {},
   "source": [
    "### Processamento de Imagem Pipeline\n",
    "<p> Este comportamento do dtype permite que usemos juntas qualquer função do skimage sem se preocupar com o dtype da imagem. Por outro lado, se você quiser usar uma função customizada que requer um dtype específico, você deve usar uma das funções de conversão de dtype (aqui, <code>func1</code> e <code>func2</code> são funções skimage):</p>\n",
    "<code>\n",
    "\\>>> from skimage import img_as_float\n",
    "\\>>> image = img_as_float(func1(func2(image)))\n",
    "\\>>> processed_image = custom_func(image)\n",
    "</code>\n",
    "\n",
    "<p>Melhor ainda, você pode converter a imagem internamente e usar um processamento pipeline simplificado:</p>\n",
    "<code>\n",
    "\\>>> def custom_func(image):\n",
    "\\...     image = img_as_float(image)\n",
    "\\...     # do something\n",
    "\\...\n",
    "\\>>> processed_image = custom_func(func1(func2(image)))\n",
    "</code>"
   ]
  },
  {
   "cell_type": "code",
   "execution_count": null,
   "metadata": {
    "collapsed": true
   },
   "outputs": [],
   "source": []
  },
  {
   "cell_type": "markdown",
   "metadata": {
    "collapsed": true
   },
   "source": [
    "### Reajustando valores de intensidade\n",
    "<p>Sempre que possível, funções devem evitar distorcer as intensidades de imagens (por exemplo, reajustando o dtype para float para que os valores min e max da intensidade sejam 0 e 1), já que isso pode distorcer drasticamente a imagem. Por exemplo, se você estiver procurando por marcadores claros em imagens escuras, pode haver imagens nas quais nenhum esteja presente; ao distorcer a intensidade do input para agrupar toda a range faria com que o ruido de fundo pareça com marcadores.</p>\n",
    "<p>Algumas vezes, entretanto, você tem imagens que deveriam agrupar toda a _range_ mas não o faz. Por exemplo, algumas câmeras armazenam imagens com 10-, 12-, ou 14-bit de profundidade por pixel. Se estas imagens são armazenadas com um array com o dtype uint16, então a imagem não extenderia por toda a série, e logo, apareceria mais brilhante do que deveria. Para corrigir isto, você pode usar a função <code>rescale_intensity</code> para reajustar o tamanho para que ela use a série inteira no intervalo.</p>\n",
    "**<code>\n",
    "\\>>> from skimage import exposure\n",
    "\\>>> image = exposure.rescale_intensity(img10bit, in_range=(0, 2**10 - 1))\n",
    "</code>**\n",
    "<p>Aqui, o argumento <code>in_range</code> é ajustado para o intervalo máximo de imagem de 10-bit. Por padrão, <code>rescale_intensity</code> estica os valores de <code>in_range</code> para corresponder o intervalo do dtype. <code>rescale_intensity</code> também aceita strings como input no <code>in_range</code> e <code>out_range</code>, então o exemplo acima poderia ser escrito como:</p>\n",
    "**<code>\n",
    "\\>>> image = exposure.rescale_intensity(img10bit, in_range='uint10')\n",
    "</code>**"
   ]
  },
  {
   "cell_type": "markdown",
   "metadata": {},
   "source": [
    "### Notas sobre valores negativos\n",
    "<p>As pessoas frequentemente representam imagens em signed dtypes, mesmo só manipulando os valores positivos da imagem (por exemplo, usando só de 0-127 em uma imagem int8). Por este motivo, funções de conversão só espalham os valores positivos de um signed dtype ao longo de toda a série de um unsigned dtype. Em outras palavras, os valores negativos são indexados a 0 quando converte-se de signed para unsigned dtypes. Os valores negativos só são preservados quando se converte entre signed dtypes. Para prevenir este comportamento, você deve ajustar o tamanho da sua imagem de antemão:</p>\n",
    "<code>\n",
    "\\>>> image = exposure.rescale_intensity(img_int32, out_range=(0, 2**31 - 1))\n",
    "\\>>> img_uint8 = img_as_ubyte(image)\n",
    "</code>\n",
    "<p>Este comportamento é simétrico: Os valores em um dtype unsigned são espalhados somente na série positiva de um dtype signed.</p>"
   ]
  },
  {
   "cell_type": "code",
   "execution_count": null,
   "metadata": {
    "collapsed": true
   },
   "outputs": [],
   "source": [
    "import skimage\n",
    "import numpy as np\n",
    "import skimage.color as color"
   ]
  },
  {
   "cell_type": "markdown",
   "metadata": {},
   "source": [
    "## 4) Ajustes de Imagem: transformando conteúdo da imagem\n",
    "### 4.1) Manipulação de cor:\n",
    "A maioria das funções para manipular canais de cores é encontrada no submodulo <code>skimage.color</code>.\n",
    "#### 4.1.1) Conversão entre modelos de cor\n",
    "<p>Imagens coloridas podem ser representadas usando diferentes [color spaces](https://en.wikipedia.org/wiki/Color_space). Um dos color spaces mais comuns é o [RGB](https://en.wikipedia.org/wiki/RGB_color_model), onde uma imagem tem canais nas cores vermelho, verde e azul. Entretanto, outros modelos de cor são amplamente usados, como o [HSV](https://en.wikipedia.org/wiki/HSL_and_HSV) onde os canais de hue, saturação e valor são canais indepentes, ou o modelo [CMYK](https://en.wikipedia.org/wiki/CMYK_color_model) (cyan, magenta, yellow, and key (black)) usado para impressão.</p>\n",
    "<p><code>skimage.color</code> fornece funções úteis para converter imagens para e de diferentes color spaces. Interger-type arrays podem ser transformados para floating-point type pela operação:</p>\n",
    "- vermelho brilhante saturado:"
   ]
  },
  {
   "cell_type": "code",
   "execution_count": null,
   "metadata": {
    "collapsed": false
   },
   "outputs": [],
   "source": [
    "red_pixel_rgb = np.array([[[255, 0, 0]]], dtype=np.uint8)\n",
    "color.rgb2hsv(red_pixel_rgb)"
   ]
  },
  {
   "cell_type": "markdown",
   "metadata": {},
   "source": [
    "- azul escuro saturado"
   ]
  },
  {
   "cell_type": "code",
   "execution_count": null,
   "metadata": {
    "collapsed": false
   },
   "outputs": [],
   "source": [
    "dark_blue_pixel_rgb = np.array([[[0, 0, 100]]], dtype=np.uint8)\n",
    "color.rgb2hsv(dark_blue_pixel_rgb)"
   ]
  },
  {
   "cell_type": "markdown",
   "metadata": {},
   "source": [
    "- rosa menos saturado"
   ]
  },
  {
   "cell_type": "code",
   "execution_count": null,
   "metadata": {
    "collapsed": false
   },
   "outputs": [],
   "source": [
    "pink_pixel_rgb = np.array([[[255, 100, 255]]], dtype=np.uint8)\n",
    "color.rgb2hsv(pink_pixel_rgb)"
   ]
  },
  {
   "cell_type": "markdown",
   "metadata": {},
   "source": [
    "#### 4.1.2) Conversão entre RGB e escala de cinza\n",
    "<p>Essa conversão é realizada usando a função<code>rgb2gray()</code>.</p>"
   ]
  },
  {
   "cell_type": "code",
   "execution_count": null,
   "metadata": {
    "collapsed": true
   },
   "outputs": [],
   "source": [
    "from skimage.color import rgb2gray\n",
    "from skimage import data"
   ]
  },
  {
   "cell_type": "code",
   "execution_count": null,
   "metadata": {
    "collapsed": true
   },
   "outputs": [],
   "source": [
    "img = data.astronaut()\n",
    "img_gray = rgb2gray(img)"
   ]
  },
  {
   "cell_type": "markdown",
   "metadata": {},
   "source": [
    "<p><code>rgb2gray</code> usa um peso não uniforme de canais de cores, por causa da diferença de sensibilidade do olho humano às diferentes cores. Entretanto, este peso garante a preservação da luz do RGB para escala de cinza:</p>"
   ]
  },
  {
   "cell_type": "code",
   "execution_count": null,
   "metadata": {
    "collapsed": false
   },
   "outputs": [],
   "source": [
    "red_pixel = np.array([[[255, 0, 0]]], dtype=np.uint8)\n",
    "color.rgb2gray(red_pixel)"
   ]
  },
  {
   "cell_type": "code",
   "execution_count": null,
   "metadata": {
    "collapsed": false
   },
   "outputs": [],
   "source": [
    "green_pixel = np.array([[[0, 255, 0]]], dtype=np.uint8)\n",
    "color.rgb2gray(green_pixel)"
   ]
  },
  {
   "cell_type": "markdown",
   "metadata": {},
   "source": [
    "<p> Convertendo imagem de escala de cinza para RGB com **<code>gray2rgb()</code>** simplismente duplica os valores de cinza, para cada um dos três canais.</p>"
   ]
  },
  {
   "cell_type": "markdown",
   "metadata": {},
   "source": [
    "#### 4.1.3) Pintando imagens usando labels:\n",
    "- 4.1.3.1) Tingindo imagens em escala de cinza [link](http://scikit-image.org/docs/stable/auto_examples/color_exposure/plot_tinting_grayscale_images.html#example-color-exposure-plot-tinting-grayscale-images-py)\n",
    "- 4.1.3.2) [link](http://scikit-image.org/docs/stable/auto_examples/segmentation/plot_join_segmentations.html#example-segmentation-plot-join-segmentations-py)\n",
    "- 4.1.3.3) [link](http://scikit-image.org/docs/stable/auto_examples/segmentation/plot_rag_mean_color.html#example-segmentation-plot-rag-mean-color-py)\n",
    "\n",
    "~ fazer depois"
   ]
  },
  {
   "cell_type": "markdown",
   "metadata": {},
   "source": [
    "### 4.2) Contraste e Exposição\n",
    "<p> Os pixels da imagem podem assumir valores determinado pelo seu dtype, como por exemplo de 0 a 255 para imagens uint8 ou [0,1] para imagens floating-point. Entretanto, a maioria das imagens ou possuem uma variação muito curta (por causa do fraco contraste), ou possui a maioria dos valores de pixels concentrado em um subintervalo dos valores acessíveis. <code>skimage.exposure</code> fornece funções que espalham os valores de  intensidade ao longo de um intervalo maior.</p>\n",
    "<p>Métodos de primeira classe computam função não linear de intensidade, que é independente dos valores do pixel de uma imagem específica. Tais métodos são frequentemente usados para corrigir uma não-linearidade conhecida de sensores, ou receptores como o olho humano. Um exemplo conhecido é a [Gamma Correction](https://en.wikipedia.org/wiki/Gamma_correction), implementada em <code>adjust_gamma()</code>.</p>\n",
    "<p>Outros métodos redistribuem valores de pixel de acordo com o histograma da imagem. O histograma de valores de pixels é computado com <code>skimage.exposure.histogram()</code>.</p>"
   ]
  },
  {
   "cell_type": "code",
   "execution_count": null,
   "metadata": {
    "collapsed": false
   },
   "outputs": [],
   "source": [
    "image = np.array([[1, 3], [1, 1]])\n",
    "skimage.exposure.histogram(image)"
   ]
  },
  {
   "cell_type": "code",
   "execution_count": null,
   "metadata": {
    "collapsed": true
   },
   "outputs": [],
   "source": []
  },
  {
   "cell_type": "markdown",
   "metadata": {},
   "source": [
    "<p><code>histogram()</code> retorna os numeros de pixels para cada valor de intervalo de série, e os centros dos intervalos. O comportamento de <code>histogram()</code> é diferente do <code>numpy.histogram()</code>, que retorna os limites (inferior e superior) dos intervalos.</p>\n",
    "<p> A melhoria mais simples de contraste, <code>rescale_intensity()</code>, consiste em esticar valores de pixel para toda a série permitida, usando transformação linear:"
   ]
  },
  {
   "cell_type": "code",
   "execution_count": null,
   "metadata": {
    "collapsed": false
   },
   "outputs": [],
   "source": [
    "from skimage import exposure\n",
    "text = data.text()\n",
    "text.min(), text.max()"
   ]
  },
  {
   "cell_type": "code",
   "execution_count": null,
   "metadata": {
    "collapsed": true
   },
   "outputs": [],
   "source": [
    "better_contrast = exposure.rescale_intensity(text)"
   ]
  },
  {
   "cell_type": "code",
   "execution_count": null,
   "metadata": {
    "collapsed": false
   },
   "outputs": [],
   "source": [
    "better_contrast.min(), better_contrast.max()"
   ]
  },
  {
   "cell_type": "markdown",
   "metadata": {},
   "source": [
    "<p> Mesmo se a imagem usar toda a extensão da série, as vezes há pouco peso ao final dela. Neste caso, clippar valores de pixel usando percentis da imagem melhora o contraste (custando alguma perda de informação, porque alguns pixels são saturados por esta operação):</p>"
   ]
  },
  {
   "cell_type": "code",
   "execution_count": null,
   "metadata": {
    "collapsed": true
   },
   "outputs": [],
   "source": [
    "moon = data.moon()\n",
    "v_min, v_max = np.percentile(moon, (0.2, 99.8))"
   ]
  },
  {
   "cell_type": "code",
   "execution_count": null,
   "metadata": {
    "collapsed": false
   },
   "outputs": [],
   "source": [
    "v_min, v_max"
   ]
  },
  {
   "cell_type": "code",
   "execution_count": null,
   "metadata": {
    "collapsed": true
   },
   "outputs": [],
   "source": [
    "better_contrast = exposure.rescale_intensity(moon, in_range=(v_min,v_max))"
   ]
  },
  {
   "cell_type": "markdown",
   "metadata": {},
   "source": [
    "<p>A função <code>equalize_histogram()</code> mapeia a distribuição cumutaliva da função de valores dos pixels em uma função linear, garantindo que todas as partes da distribuição sejam igualmente representados na imagem. Como resultado, detalhes são enriquecidos em grandes regiões com pouco contraste. Com um refinamento adicional, a equalização do histograma pode ser realizada em subregiões da imagem com <code>equalize_adapthist()</code>, de modo a corrigir os gradientes de exposição ao longo da imagem. \n",
    "Veja o exemplo abaixo de equalização de um histograma:"
   ]
  },
  {
   "cell_type": "code",
   "execution_count": null,
   "metadata": {
    "collapsed": false
   },
   "outputs": [],
   "source": [
    "import matplotlib\n",
    "import matplotlib.pyplot as plt\n",
    "import numpy as np\n",
    "\n",
    "from skimage import data, img_as_float\n",
    "from skimage import exposure\n",
    "\n",
    "\n",
    "matplotlib.rcParams['font.size'] = 8\n",
    "\n",
    "\n",
    "def plot_img_and_hist(img, axes, bins=256):\n",
    "    \"\"\"Plot an image along with its histogram and cumulative histogram.\n",
    "\n",
    "    \"\"\"\n",
    "    img = img_as_float(img)\n",
    "    ax_img, ax_hist = axes\n",
    "    ax_cdf = ax_hist.twinx()\n",
    "\n",
    "    # Display image\n",
    "    ax_img.imshow(img, cmap=plt.cm.gray)\n",
    "    ax_img.set_axis_off()\n",
    "    ax_img.set_adjustable('box-forced')\n",
    "\n",
    "    # Display histogram\n",
    "    ax_hist.hist(img.ravel(), bins=bins, histtype='step', color='black')\n",
    "    ax_hist.ticklabel_format(axis='y', style='scientific', scilimits=(0, 0))\n",
    "    ax_hist.set_xlabel('Pixel intensity')\n",
    "    ax_hist.set_xlim(0, 1)\n",
    "    ax_hist.set_yticks([])\n",
    "\n",
    "    # Display cumulative distribution\n",
    "    img_cdf, bins = exposure.cumulative_distribution(img, bins)\n",
    "    ax_cdf.plot(bins, img_cdf, 'r')\n",
    "    ax_cdf.set_yticks([])\n",
    "\n",
    "    return ax_img, ax_hist, ax_cdf\n",
    "\n",
    "\n",
    "# Load an example image\n",
    "img = data.moon()\n",
    "\n",
    "# Contrast stretching\n",
    "p2, p98 = np.percentile(img, (2, 98))\n",
    "img_rescale = exposure.rescale_intensity(img, in_range=(p2, p98))\n",
    "\n",
    "# Equalization\n",
    "img_eq = exposure.equalize_hist(img)\n",
    "\n",
    "# Adaptive Equalization\n",
    "img_adapteq = exposure.equalize_adapthist(img, clip_limit=0.03)\n",
    "\n",
    "# Display results\n",
    "fig = plt.figure(figsize=(8, 5))\n",
    "axes = np.zeros((2,4), dtype=np.object)\n",
    "axes[0,0] = fig.add_subplot(2, 4, 1)\n",
    "for i in range(1,4):\n",
    "    axes[0,i] = fig.add_subplot(2, 4, 1+i, sharex=axes[0,0], sharey=axes[0,0])\n",
    "for i in range(0,4):\n",
    "    axes[1,i] = fig.add_subplot(2, 4, 5+i)\n",
    "\n",
    "ax_img, ax_hist, ax_cdf = plot_img_and_hist(img, axes[:, 0])\n",
    "ax_img.set_title('Low contrast image')\n",
    "\n",
    "y_min, y_max = ax_hist.get_ylim()\n",
    "ax_hist.set_ylabel('Number of pixels')\n",
    "ax_hist.set_yticks(np.linspace(0, y_max, 5))\n",
    "\n",
    "ax_img, ax_hist, ax_cdf = plot_img_and_hist(img_rescale, axes[:, 1])\n",
    "ax_img.set_title('Contrast stretching')\n",
    "\n",
    "ax_img, ax_hist, ax_cdf = plot_img_and_hist(img_eq, axes[:, 2])\n",
    "ax_img.set_title('Histogram equalization')\n",
    "\n",
    "ax_img, ax_hist, ax_cdf = plot_img_and_hist(img_adapteq, axes[:, 3])\n",
    "ax_img.set_title('Adaptive equalization')\n",
    "\n",
    "ax_cdf.set_ylabel('Fraction of total intensity')\n",
    "ax_cdf.set_yticks(np.linspace(0, 1, 5))\n",
    "\n",
    "# prevent overlap of y-axis labels\n",
    "fig.tight_layout()\n",
    "plt.show()"
   ]
  },
  {
   "cell_type": "markdown",
   "metadata": {
    "collapsed": true
   },
   "source": [
    "## 5) I/O Infraestrutura do Plugin\n",
    "\n",
    "<p>O plugin consiste em dois arquivos,a origem e o descritor <code>.ini</code> . Vamos supor que gostaríamos de fornecer um plugin para imshow usando o matplotlib. Vamos chamar nosso plugin de mpl:</p>\n",
    "<code>\n",
    "skimage/plugins/io/_plugins/mpl.py\n",
    "skimage/plugins/io/_plugins/mpl.ini\n",
    "</code>\n",
    "<p> O nome dos arquivos **.py** e **.ini** devem ser iguais. Dentro do arquivo .ini, nós damos o metadado do plugin:"
   ]
  },
  {
   "cell_type": "markdown",
   "metadata": {},
   "source": [
    "<code>\n",
    "[mpl] <-- name of the plugin, may be anything\n",
    "description = Matplotlib image I/O plugin\n",
    "provides = imshow <-- a comma-separated list, one or more of\n",
    "                      imshow, imsave, imread, _app_show\n",
    "</code>                      "
   ]
  },
  {
   "cell_type": "markdown",
   "metadata": {
    "collapsed": true
   },
   "source": [
    "<p> A linha \"provides\" lista todas as funções fornecidas pelo plugin. Já que nosso plugin fornece <code>imshow</code>, temos que definí-lo dentro de <code>mpl.py</code>:</p>"
   ]
  },
  {
   "cell_type": "code",
   "execution_count": null,
   "metadata": {
    "collapsed": true
   },
   "outputs": [],
   "source": [
    "# This is mpl.py\n",
    "\n",
    "import matplotlib.pyplot as plt\n",
    "\n",
    "def imshow(img):\n",
    "    plt.imshow(img)"
   ]
  },
  {
   "cell_type": "markdown",
   "metadata": {},
   "source": [
    "Note que, por padrão, <code>imshow</code> é uma função non-blocking\\*, então a função especial <code>_app_show_</code> deve ser fornecida para bloquear o GUI. Nós podemos modificar nosso plugin, como a seguir."
   ]
  },
  {
   "cell_type": "markdown",
   "metadata": {},
   "source": [
    "\\*: uma função **_blocking_** é basicamente uma que pode levar um longo tempo. Em particular, se você fez uma função que lê dados, e espera para os dados chegarem antes de os retornarem.\n",
    "Já uma **_non-blocking_**, por outro lado, seria uma criada para retornar imediatamente, com algum valor indicando que ela não tem dado desta vez."
   ]
  },
  {
   "cell_type": "markdown",
   "metadata": {},
   "source": [
    "<code>\n",
    "[mpl]\n",
    "provides = imshow, _app_show\n",
    "</code>  "
   ]
  },
  {
   "cell_type": "code",
   "execution_count": 3,
   "metadata": {
    "collapsed": true
   },
   "outputs": [],
   "source": [
    "# This is mpl.py\n",
    "\n",
    "import matplotlib.pyplot as plt\n",
    "\n",
    "def imshow(img):\n",
    "    plt.imshow(img)\n",
    "\n",
    "def _app_show():\n",
    "    plt.show()"
   ]
  },
  {
   "cell_type": "markdown",
   "metadata": {},
   "source": [
    "<p>Qualquer plugin no diretório <code>_plugins</code> é automaticamente examinado por <code>skimage.io</code> até ser importada. Eles podem ser listadas, da seguinte forma:</p>"
   ]
  },
  {
   "cell_type": "code",
   "execution_count": 4,
   "metadata": {
    "collapsed": false
   },
   "outputs": [
    {
     "data": {
      "text/plain": [
       "{'fits': ['imread', 'imread_collection'],\n",
       " 'freeimage': ['imread', 'imsave', 'imread_collection'],\n",
       " 'gdal': ['imread', 'imread_collection'],\n",
       " 'gtk': ['imshow'],\n",
       " 'imageio': ['imread', 'imsave', 'imread_collection'],\n",
       " 'imread': ['imread', 'imsave', 'imread_collection'],\n",
       " 'matplotlib': ['imshow', 'imread', 'imshow_collection', 'imread_collection'],\n",
       " 'pil': ['imread', 'imsave', 'imread_collection'],\n",
       " 'qt': ['imshow', 'imsave', 'imread', 'imread_collection'],\n",
       " 'simpleitk': ['imread', 'imsave', 'imread_collection'],\n",
       " 'test': ['imsave',\n",
       "  'imshow',\n",
       "  'imread',\n",
       "  'imread_collection',\n",
       "  'imshow_collection'],\n",
       " 'tifffile': ['imread', 'imsave', 'imread_collection']}"
      ]
     },
     "execution_count": 4,
     "metadata": {},
     "output_type": "execute_result"
    }
   ],
   "source": [
    "import skimage.io as io\n",
    "io.find_available_plugins()"
   ]
  },
  {
   "cell_type": "markdown",
   "metadata": {},
   "source": [
    "Ou apenas os que foram carregados:"
   ]
  },
  {
   "cell_type": "code",
   "execution_count": 5,
   "metadata": {
    "collapsed": false
   },
   "outputs": [
    {
     "data": {
      "text/plain": [
       "{'matplotlib': ['imshow', 'imread', 'imshow_collection', 'imread_collection'],\n",
       " 'pil': ['imread', 'imsave', 'imread_collection']}"
      ]
     },
     "execution_count": 5,
     "metadata": {},
     "output_type": "execute_result"
    }
   ],
   "source": [
    "io.find_available_plugins(loaded=True)"
   ]
  },
  {
   "cell_type": "markdown",
   "metadata": {},
   "source": [
    "<p> Um plugin é carregado usando o comando <code>use_plugin</code>: </p>"
   ]
  },
  {
   "cell_type": "code",
   "execution_count": 7,
   "metadata": {
    "collapsed": true
   },
   "outputs": [],
   "source": [
    "import skimage.io as io\n",
    "io.use_plugin('pil')"
   ]
  },
  {
   "cell_type": "markdown",
   "metadata": {},
   "source": [
    "Usa-se o método acima, para carregar todas as capacidades do plugin, ou o método abaixo caso queira carregar uma capacidade específica."
   ]
  },
  {
   "cell_type": "code",
   "execution_count": 8,
   "metadata": {
    "collapsed": true
   },
   "outputs": [],
   "source": [
    "io.use_plugin('pil','imread')"
   ]
  },
  {
   "cell_type": "markdown",
   "metadata": {},
   "source": [
    "Caso mais de um plugin seja carregado contendo a mesma capacidade, o último que for carregado será o usado. \n",
    "Para investigar as capacidades de um determinado plugin, use <code>plugin_info</code>:"
   ]
  },
  {
   "cell_type": "code",
   "execution_count": 9,
   "metadata": {
    "collapsed": false
   },
   "outputs": [
    {
     "data": {
      "text/plain": [
       "{'description': 'Image reading via the Python Imaging Library',\n",
       " 'provides': 'imread, imsave'}"
      ]
     },
     "execution_count": 9,
     "metadata": {},
     "output_type": "execute_result"
    }
   ],
   "source": [
    "io.plugin_info('pil')"
   ]
  },
  {
   "cell_type": "code",
   "execution_count": null,
   "metadata": {
    "collapsed": true
   },
   "outputs": [],
   "source": []
  }
 ],
 "metadata": {
  "kernelspec": {
   "display_name": "Python 3",
   "language": "python",
   "name": "python3"
  },
  "language_info": {
   "codemirror_mode": {
    "name": "ipython",
    "version": 3
   },
   "file_extension": ".py",
   "mimetype": "text/x-python",
   "name": "python",
   "nbconvert_exporter": "python",
   "pygments_lexer": "ipython3",
   "version": "3.5.1"
  }
 },
 "nbformat": 4,
 "nbformat_minor": 0
}
