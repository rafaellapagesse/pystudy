{
 "cells": [
  {
   "cell_type": "code",
   "execution_count": 6,
   "metadata": {
    "collapsed": false
   },
   "outputs": [],
   "source": [
    "%matplotlib inline"
   ]
  },
  {
   "cell_type": "markdown",
   "metadata": {
    "collapsed": true
   },
   "source": [
    "# scikit-image \n",
    "\n",
    "### 0) Referências\n",
    "- http://scikit-image.org/docs/stable/user_guide/getting_started.html\n",
    "- http://scikit-image.org/docs/stable/api/api.html\n",
    "- http://scikit-image.org/docs/stable/user_guide/data_types.html#data-types\n",
    "- \n",
    "\n",
    "\n",
    "### 1) Introdução\n",
    "\n",
    "<p> O **<code>scikit-image</code>** é um pacote do Python para processamento de imagens que funciona com arrays do numpy, importado como skimage. \n"
   ]
  },
  {
   "cell_type": "code",
   "execution_count": null,
   "metadata": {
    "collapsed": true
   },
   "outputs": [],
   "source": [
    "import skimage"
   ]
  },
  {
   "cell_type": "markdown",
   "metadata": {},
   "source": [
    "<p>A maioria de suas funções são encontradas em submódulos. A lista contendo os submódulos e funções  do skimage é encontrada [aqui](http://scikit-image.org/docs/stable/api/api.html). Dentro do scikit-image, imagens são representadas como Numpy arrays, por exemplo arrays 2-D para imagens em escala de cinza 2-D.</p>\n",
    "<p>O submódulo **<code>skimage.data</code>** fornece um grupo de funções retornando exemplos de imagens que podem ser usados para se acostumar rapidamente com o uso das funções do **skimage**."
   ]
  },
  {
   "cell_type": "code",
   "execution_count": null,
   "metadata": {
    "collapsed": true
   },
   "outputs": [],
   "source": [
    "from skimage import data"
   ]
  },
  {
   "cell_type": "markdown",
   "metadata": {},
   "source": [
    "Uma das imagens que estão neste submódulo é  <code>camera</code>. A partir dela, podemos extrair informações como:"
   ]
  },
  {
   "cell_type": "code",
   "execution_count": null,
   "metadata": {
    "collapsed": true
   },
   "outputs": [],
   "source": [
    "camera = data.camera()"
   ]
  },
  {
   "cell_type": "code",
   "execution_count": null,
   "metadata": {
    "collapsed": false
   },
   "outputs": [],
   "source": [
    "type(camera)"
   ]
  },
  {
   "cell_type": "markdown",
   "metadata": {},
   "source": [
    "Como dito acima, as imagens são transformadas em arrays do Numpy. Como todo array, pode-se extrair seu <code>.shape</code> da seguinte forma."
   ]
  },
  {
   "cell_type": "code",
   "execution_count": null,
   "metadata": {
    "collapsed": false
   },
   "outputs": [],
   "source": [
    "camera.shape"
   ]
  },
  {
   "cell_type": "markdown",
   "metadata": {},
   "source": [
    "Ou seja, um array com 512 linhas e 512 colunas."
   ]
  },
  {
   "cell_type": "markdown",
   "metadata": {
    "collapsed": true
   },
   "source": [
    "É possível carregar inclusive sua própria imagem como arrays do Numpy usando o módulo <code>io.imread()</code> da seguinte forma:\n"
   ]
  },
  {
   "cell_type": "code",
   "execution_count": null,
   "metadata": {
    "collapsed": true
   },
   "outputs": [],
   "source": [
    "import os\n",
    "from skimage import io"
   ]
  },
  {
   "cell_type": "code",
   "execution_count": null,
   "metadata": {
    "collapsed": true
   },
   "outputs": [],
   "source": [
    "filename = os.path.join(skimage.data_dir, 'moon.png')"
   ]
  },
  {
   "cell_type": "code",
   "execution_count": null,
   "metadata": {
    "collapsed": true
   },
   "outputs": [],
   "source": [
    "moon = io.imread(filename)"
   ]
  },
  {
   "cell_type": "code",
   "execution_count": null,
   "metadata": {
    "collapsed": true
   },
   "outputs": [],
   "source": []
  },
  {
   "cell_type": "markdown",
   "metadata": {
    "collapsed": false
   },
   "source": [
    "### 2) Informações rápidas sobre o Numpy\n",
    "\n",
    "Imagens manipuladas pelo <code>scikit-image</code> são simplesmente arrays do Numpy. Por este motivo, uma grande fração das operações nas imagens irá consistir em usar o Numpy."
   ]
  },
  {
   "cell_type": "code",
   "execution_count": 1,
   "metadata": {
    "collapsed": true
   },
   "outputs": [],
   "source": [
    "from skimage import data\n"
   ]
  },
  {
   "cell_type": "code",
   "execution_count": 2,
   "metadata": {
    "collapsed": false
   },
   "outputs": [
    {
     "data": {
      "text/plain": [
       "numpy.ndarray"
      ]
     },
     "execution_count": 2,
     "metadata": {},
     "output_type": "execute_result"
    }
   ],
   "source": [
    "camera = data.camera()\n",
    "type(camera)"
   ]
  },
  {
   "cell_type": "markdown",
   "metadata": {},
   "source": [
    "Podemos obter informações como a geometria da imagem (<code>shape</code>) e o número de pixels (<code>size</code>), respectivamente, da seguinte forma:"
   ]
  },
  {
   "cell_type": "code",
   "execution_count": 5,
   "metadata": {
    "collapsed": false
   },
   "outputs": [
    {
     "data": {
      "text/plain": [
       "(512, 512)"
      ]
     },
     "execution_count": 5,
     "metadata": {},
     "output_type": "execute_result"
    }
   ],
   "source": [
    "camera.shape "
   ]
  },
  {
   "cell_type": "code",
   "execution_count": 6,
   "metadata": {
    "collapsed": false
   },
   "outputs": [
    {
     "data": {
      "text/plain": [
       "262144"
      ]
     },
     "execution_count": 6,
     "metadata": {},
     "output_type": "execute_result"
    }
   ],
   "source": [
    "camera.size"
   ]
  },
  {
   "cell_type": "markdown",
   "metadata": {},
   "source": [
    "Além disso, é possível obter informções estatísticas sobre os valores cinza. (preto = 0, branco = 255, cinza = escala dentro desses limites).\n",
    " "
   ]
  },
  {
   "cell_type": "code",
   "execution_count": 8,
   "metadata": {
    "collapsed": false
   },
   "outputs": [
    {
     "data": {
      "text/plain": [
       "(0, 255, 118.31400299072266)"
      ]
     },
     "execution_count": 8,
     "metadata": {},
     "output_type": "execute_result"
    }
   ],
   "source": [
    "camera.min(), camera.max(), camera.mean()"
   ]
  },
  {
   "cell_type": "markdown",
   "metadata": {},
   "source": [
    "#### 2.1 - data types (dtypes) das Imagens, o que significam e como o scikit-image as trata. (Adicionar Info depois ~ [fonte](http://scikit-image.org/docs/stable/user_guide/data_types.html#data-types) )\n",
    "\n",
    "Os arrays do Numpy podem ser de diferentes tipos de interger ou float. Para evitar distorções nas imagens, assumimos que imagens usam os seguintes dtypes ranges:\n",
    "\n",
    "|  dtype | Range           |\n",
    "|:------:|-----------------|\n",
    "| uint8  | 0 a 255         |\n",
    "| uint16 | 0 a 65535       |\n",
    "| uint32 | 0 a 2³²         |\n",
    "| float  | -1 a 1 ou 0 a 1 |\n",
    "| int8   | -128 a 127      |\n",
    "| int16  | -32768 a 32767  |\n",
    "| int32  | -2³¹ a (2³¹ -1) |\n",
    "\n",
    "Note que as imagens float devem ser restritas à range -1 a 1 mesmo sabendo que o data type por si só possa execeder este intervalo; Todos os interger dtypes, por outro lado, possuem intensidades de pixel que podem ocupar toda a range do data type. \n"
   ]
  },
  {
   "cell_type": "markdown",
   "metadata": {
    "collapsed": true
   },
   "source": [
    "#### Indexação do Numpy\n",
    "A indexação pode ser usada para descobrir valores dos pixels, e para modificá-los. Para acessar valores do array na 10ª linha e 20ª coluna usa-se:"
   ]
  },
  {
   "cell_type": "code",
   "execution_count": 3,
   "metadata": {
    "collapsed": false
   },
   "outputs": [
    {
     "data": {
      "text/plain": [
       "153"
      ]
     },
     "execution_count": 3,
     "metadata": {},
     "output_type": "execute_result"
    }
   ],
   "source": [
    "camera[10,20]"
   ]
  },
  {
   "cell_type": "markdown",
   "metadata": {},
   "source": [
    "Para alterar o valor acima, ou torná-lo preto (0) usa o seguinte comando:"
   ]
  },
  {
   "cell_type": "code",
   "execution_count": 4,
   "metadata": {
    "collapsed": true
   },
   "outputs": [],
   "source": [
    "camera[10,20] = 0"
   ]
  },
  {
   "cell_type": "code",
   "execution_count": 5,
   "metadata": {
    "collapsed": false
   },
   "outputs": [
    {
     "data": {
      "text/plain": [
       "0"
      ]
     },
     "execution_count": 5,
     "metadata": {},
     "output_type": "execute_result"
    }
   ],
   "source": [
    "camera[10,20]"
   ]
  },
  {
   "cell_type": "markdown",
   "metadata": {},
   "source": [
    "Mas tome cuidado na Indexação do Numpy, a primeira dimensão (**<code>camera.shape[0]</code>**) corresponde a linhas, enquanto a segunda (**<code>camera.shape[1]</code>**) corresponde a colunas, com origem em (**<code>camera.shape[0,0]</code>**) no canto superior esquerdo. Isto ocorre de forma similar as notações de matrizes/algebra linear, mas entra contraste com coordenadas cartesianas (x,y). Mais adiante abordaremos o assunto com mais detalhes.\n",
    "\n",
    "Indo um pouco mais adiante, além de pixels individuais, é possível acessar/modificar valores de um grupo de pixels usando as diferentes possibilidades de indexação do Numpy.\n",
    "\n",
    "- Slicing:\n",
    "<p>Na célula abaixo, transformamos todas as 10 primeiras linhas de camera em preto.</p>"
   ]
  },
  {
   "cell_type": "code",
   "execution_count": 7,
   "metadata": {
    "collapsed": true
   },
   "outputs": [],
   "source": [
    "camera[:10] = 0"
   ]
  },
  {
   "cell_type": "markdown",
   "metadata": {},
   "source": [
    "- Masking (indexando com mascaras de booleanas - True ou False):\n",
    "<p>Antes vamos definir a máscara para valores menores que 87, depois aplicamos a máscara em câmera e modoficamos os valores da máscara em branco (255).</p>"
   ]
  },
  {
   "cell_type": "code",
   "execution_count": 8,
   "metadata": {
    "collapsed": true
   },
   "outputs": [],
   "source": [
    "mask = camera < 87\n",
    "camera[mask] = 255"
   ]
  },
  {
   "cell_type": "code",
   "execution_count": null,
   "metadata": {
    "collapsed": true
   },
   "outputs": [],
   "source": []
  }
 ],
 "metadata": {
  "kernelspec": {
   "display_name": "Python 3",
   "language": "python",
   "name": "python3"
  },
  "language_info": {
   "codemirror_mode": {
    "name": "ipython",
    "version": 3
   },
   "file_extension": ".py",
   "mimetype": "text/x-python",
   "name": "python",
   "nbconvert_exporter": "python",
   "pygments_lexer": "ipython3",
   "version": "3.5.1"
  }
 },
 "nbformat": 4,
 "nbformat_minor": 0
}
